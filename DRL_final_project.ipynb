{
  "nbformat": 4,
  "nbformat_minor": 0,
  "metadata": {
    "colab": {
      "provenance": [],
      "include_colab_link": true
    },
    "kernelspec": {
      "name": "python3",
      "display_name": "Python 3"
    },
    "language_info": {
      "name": "python"
    }
  },
  "cells": [
    {
      "cell_type": "markdown",
      "metadata": {
        "id": "view-in-github",
        "colab_type": "text"
      },
      "source": [
        "<a href=\"https://colab.research.google.com/github/eboateng/DRL-Final-Project/blob/main/DRL_final_project.ipynb\" target=\"_parent\"><img src=\"https://colab.research.google.com/assets/colab-badge.svg\" alt=\"Open In Colab\"/></a>"
      ]
    },
    {
      "cell_type": "markdown",
      "source": [
        "**Final DRL project (RL in Portfolio Management)**"
      ],
      "metadata": {
        "id": "7eLZH7NOm6Lv"
      }
    },
    {
      "cell_type": "markdown",
      "source": [
        "## Loading libraries"
      ],
      "metadata": {
        "id": "qh6WMeh8CbZu"
      }
    },
    {
      "cell_type": "code",
      "source": [
        "!pip install yfinance"
      ],
      "metadata": {
        "colab": {
          "base_uri": "https://localhost:8080/"
        },
        "id": "IdY1vZAanG84",
        "outputId": "020f168e-0036-49d0-a4fc-1682304ab516"
      },
      "execution_count": null,
      "outputs": [
        {
          "output_type": "stream",
          "name": "stdout",
          "text": [
            "Looking in indexes: https://pypi.org/simple, https://us-python.pkg.dev/colab-wheels/public/simple/\n",
            "Collecting yfinance\n",
            "  Downloading yfinance-0.2.11-py2.py3-none-any.whl (59 kB)\n",
            "\u001b[2K     \u001b[90m━━━━━━━━━━━━━━━━━━━━━━━━━━━━━━━━━━━━━━━━\u001b[0m \u001b[32m59.2/59.2 KB\u001b[0m \u001b[31m1.6 MB/s\u001b[0m eta \u001b[36m0:00:00\u001b[0m\n",
            "\u001b[?25hCollecting requests>=2.26\n",
            "  Downloading requests-2.28.2-py3-none-any.whl (62 kB)\n",
            "\u001b[2K     \u001b[90m━━━━━━━━━━━━━━━━━━━━━━━━━━━━━━━━━━━━━━━━\u001b[0m \u001b[32m62.8/62.8 KB\u001b[0m \u001b[31m2.5 MB/s\u001b[0m eta \u001b[36m0:00:00\u001b[0m\n",
            "\u001b[?25hRequirement already satisfied: pytz>=2022.5 in /usr/local/lib/python3.8/dist-packages (from yfinance) (2022.7.1)\n",
            "Requirement already satisfied: lxml>=4.9.1 in /usr/local/lib/python3.8/dist-packages (from yfinance) (4.9.2)\n",
            "Requirement already satisfied: numpy>=1.16.5 in /usr/local/lib/python3.8/dist-packages (from yfinance) (1.21.6)\n",
            "Collecting cryptography>=3.3.2\n",
            "  Downloading cryptography-39.0.1-cp36-abi3-manylinux_2_28_x86_64.whl (4.2 MB)\n",
            "\u001b[2K     \u001b[90m━━━━━━━━━━━━━━━━━━━━━━━━━━━━━━━━━━━━━━━━\u001b[0m \u001b[32m4.2/4.2 MB\u001b[0m \u001b[31m10.9 MB/s\u001b[0m eta \u001b[36m0:00:00\u001b[0m\n",
            "\u001b[?25hCollecting html5lib>=1.1\n",
            "  Downloading html5lib-1.1-py2.py3-none-any.whl (112 kB)\n",
            "\u001b[2K     \u001b[90m━━━━━━━━━━━━━━━━━━━━━━━━━━━━━━━━━━━━━━━\u001b[0m \u001b[32m112.2/112.2 KB\u001b[0m \u001b[31m3.6 MB/s\u001b[0m eta \u001b[36m0:00:00\u001b[0m\n",
            "\u001b[?25hCollecting frozendict>=2.3.4\n",
            "  Downloading frozendict-2.3.4-cp38-cp38-manylinux_2_17_x86_64.manylinux2014_x86_64.whl (110 kB)\n",
            "\u001b[2K     \u001b[90m━━━━━━━━━━━━━━━━━━━━━━━━━━━━━━━━━━━━━━━\u001b[0m \u001b[32m111.0/111.0 KB\u001b[0m \u001b[31m6.6 MB/s\u001b[0m eta \u001b[36m0:00:00\u001b[0m\n",
            "\u001b[?25hRequirement already satisfied: multitasking>=0.0.7 in /usr/local/lib/python3.8/dist-packages (from yfinance) (0.0.11)\n",
            "Collecting beautifulsoup4>=4.11.1\n",
            "  Downloading beautifulsoup4-4.11.2-py3-none-any.whl (129 kB)\n",
            "\u001b[2K     \u001b[90m━━━━━━━━━━━━━━━━━━━━━━━━━━━━━━━━━━━━━━━\u001b[0m \u001b[32m129.4/129.4 KB\u001b[0m \u001b[31m2.1 MB/s\u001b[0m eta \u001b[36m0:00:00\u001b[0m\n",
            "\u001b[?25hRequirement already satisfied: appdirs>=1.4.4 in /usr/local/lib/python3.8/dist-packages (from yfinance) (1.4.4)\n",
            "Requirement already satisfied: pandas>=1.3.0 in /usr/local/lib/python3.8/dist-packages (from yfinance) (1.3.5)\n",
            "Collecting soupsieve>1.2\n",
            "  Downloading soupsieve-2.4-py3-none-any.whl (37 kB)\n",
            "Requirement already satisfied: cffi>=1.12 in /usr/local/lib/python3.8/dist-packages (from cryptography>=3.3.2->yfinance) (1.15.1)\n",
            "Requirement already satisfied: webencodings in /usr/local/lib/python3.8/dist-packages (from html5lib>=1.1->yfinance) (0.5.1)\n",
            "Requirement already satisfied: six>=1.9 in /usr/local/lib/python3.8/dist-packages (from html5lib>=1.1->yfinance) (1.15.0)\n",
            "Requirement already satisfied: python-dateutil>=2.7.3 in /usr/local/lib/python3.8/dist-packages (from pandas>=1.3.0->yfinance) (2.8.2)\n",
            "Requirement already satisfied: charset-normalizer<4,>=2 in /usr/local/lib/python3.8/dist-packages (from requests>=2.26->yfinance) (2.1.1)\n",
            "Requirement already satisfied: certifi>=2017.4.17 in /usr/local/lib/python3.8/dist-packages (from requests>=2.26->yfinance) (2022.12.7)\n",
            "Requirement already satisfied: idna<4,>=2.5 in /usr/local/lib/python3.8/dist-packages (from requests>=2.26->yfinance) (2.10)\n",
            "Requirement already satisfied: urllib3<1.27,>=1.21.1 in /usr/local/lib/python3.8/dist-packages (from requests>=2.26->yfinance) (1.24.3)\n",
            "Requirement already satisfied: pycparser in /usr/local/lib/python3.8/dist-packages (from cffi>=1.12->cryptography>=3.3.2->yfinance) (2.21)\n",
            "Installing collected packages: soupsieve, requests, html5lib, frozendict, cryptography, beautifulsoup4, yfinance\n",
            "  Attempting uninstall: requests\n",
            "    Found existing installation: requests 2.25.1\n",
            "    Uninstalling requests-2.25.1:\n",
            "      Successfully uninstalled requests-2.25.1\n",
            "  Attempting uninstall: html5lib\n",
            "    Found existing installation: html5lib 1.0.1\n",
            "    Uninstalling html5lib-1.0.1:\n",
            "      Successfully uninstalled html5lib-1.0.1\n",
            "  Attempting uninstall: beautifulsoup4\n",
            "    Found existing installation: beautifulsoup4 4.6.3\n",
            "    Uninstalling beautifulsoup4-4.6.3:\n",
            "      Successfully uninstalled beautifulsoup4-4.6.3\n",
            "Successfully installed beautifulsoup4-4.11.2 cryptography-39.0.1 frozendict-2.3.4 html5lib-1.1 requests-2.28.2 soupsieve-2.4 yfinance-0.2.11\n"
          ]
        }
      ]
    },
    {
      "cell_type": "code",
      "execution_count": null,
      "metadata": {
        "id": "JFIoQEegGRqT"
      },
      "outputs": [],
      "source": [
        "# importing libaries:\n",
        "\n",
        "# basics\n",
        "import pandas as pd\n",
        "import numpy as np\n",
        "import matplotlib.pyplot as plt\n",
        "\n",
        "# modeling\n",
        "import yfinance as yf # yahoo finance library\n",
        "import datetime\n",
        "import time\n",
        "import requests\n",
        "import io"
      ]
    },
    {
      "cell_type": "markdown",
      "source": [
        "## Preprocessing and loading the fund data"
      ],
      "metadata": {
        "id": "ysAmBfglCfHV"
      }
    },
    {
      "cell_type": "code",
      "source": [
        "# setting the time interval for which to pull historical share prices for (5 years)\n",
        "start = datetime.datetime(2018,1,1) # format: year, month, day\n",
        "end = datetime.datetime(2022,12,31)"
      ],
      "metadata": {
        "id": "O5Dz_uXQnKVU"
      },
      "execution_count": null,
      "outputs": []
    },
    {
      "cell_type": "code",
      "source": [
        "# creating a list of ticker/Isin symbols \n",
        "\n",
        "Symbols = [\"VNRT.DE\",\"VGEU.DE\",\"VGEJ.DE\",\"VJPN.DE\",\"VFEM.DE\",\"CSHD.L\"] # ticker symbols of the Vanguard ETFs for the 5 regions + lyxor overnight return money market fund"
      ],
      "metadata": {
        "id": "4x1Sm5vsoQ_j"
      },
      "execution_count": null,
      "outputs": []
    },
    {
      "cell_type": "code",
      "source": [
        "# Iterating over each stock symbol and download the daily stock prices between the start and end dates using the yahoo finance API\n",
        "\n",
        "# create empty dataframe\n",
        "price_hist_df = pd.DataFrame() \n",
        "for i in Symbols:  \n",
        "    \n",
        "    # print the symbol which is being downloaded\n",
        "    print( str(Symbols.index(i)) + str(' : ') + i, sep=',', end=',', flush=True)  \n",
        "    \n",
        "    try:\n",
        "        # download the stock price \n",
        "        stock = []\n",
        "        stock = yf.download(i,start=start, end=end, progress=False)\n",
        "        \n",
        "        # append the individual stock prices \n",
        "        if len(stock) == 0:\n",
        "            None\n",
        "        else:\n",
        "            stock['Name']=i\n",
        "            price_hist_df = price_hist_df.append(stock,sort=False)\n",
        "    except Exception:\n",
        "        None"
      ],
      "metadata": {
        "colab": {
          "base_uri": "https://localhost:8080/"
        },
        "id": "CHxft7KtnlL8",
        "outputId": "10f20e12-9b34-4b7d-fcd8-7fd57f5e27be"
      },
      "execution_count": null,
      "outputs": [
        {
          "output_type": "stream",
          "name": "stdout",
          "text": [
            "0 : VNRT.DE,1 : VGEU.DE,2 : VGEJ.DE,3 : VJPN.DE,4 : VFEM.DE,5 : CSHD.L,"
          ]
        }
      ]
    },
    {
      "cell_type": "code",
      "source": [
        "price_hist_df"
      ],
      "metadata": {
        "colab": {
          "base_uri": "https://localhost:8080/",
          "height": 455
        },
        "id": "NADVpdtfpmVD",
        "outputId": "37676ea0-6244-4546-d2e3-188a1a021f02"
      },
      "execution_count": null,
      "outputs": [
        {
          "output_type": "execute_result",
          "data": {
            "text/plain": [
              "                  Open        High         Low       Close   Adj Close  \\\n",
              "Date                                                                     \n",
              "2018-01-02   56.020000   56.020000   55.070000   55.389999   55.389999   \n",
              "2018-01-03   55.750000   55.860001   55.750000   55.860001   55.860001   \n",
              "2018-01-04   55.889999   55.970001   55.889999   55.950001   55.950001   \n",
              "2018-01-05   56.150002   56.380001   56.139999   56.380001   56.380001   \n",
              "2018-01-08   56.750000   56.799999   56.709999   56.799999   56.799999   \n",
              "...                ...         ...         ...         ...         ...   \n",
              "2022-12-22  109.355003  109.355003  109.355003  109.235001  109.235001   \n",
              "2022-12-23  109.415001  109.415001  109.415001  109.415001  109.415001   \n",
              "2022-12-28  109.900002  109.900002  109.544998  109.474998  109.474998   \n",
              "2022-12-29  109.709999  109.959999  109.684998  109.974998  109.974998   \n",
              "2022-12-30  109.980003  110.315002  109.980003  110.144997  110.144997   \n",
              "\n",
              "            Volume     Name  \n",
              "Date                         \n",
              "2018-01-02    3629  VNRT.DE  \n",
              "2018-01-03     350  VNRT.DE  \n",
              "2018-01-04     107  VNRT.DE  \n",
              "2018-01-05     375  VNRT.DE  \n",
              "2018-01-08     383  VNRT.DE  \n",
              "...            ...      ...  \n",
              "2022-12-22    2324   CSHD.L  \n",
              "2022-12-23       0   CSHD.L  \n",
              "2022-12-28      15   CSHD.L  \n",
              "2022-12-29   20986   CSHD.L  \n",
              "2022-12-30    4648   CSHD.L  \n",
              "\n",
              "[7608 rows x 7 columns]"
            ],
            "text/html": [
              "\n",
              "  <div id=\"df-7a9d9ec7-e222-4742-b3eb-b9f7b8b1d827\">\n",
              "    <div class=\"colab-df-container\">\n",
              "      <div>\n",
              "<style scoped>\n",
              "    .dataframe tbody tr th:only-of-type {\n",
              "        vertical-align: middle;\n",
              "    }\n",
              "\n",
              "    .dataframe tbody tr th {\n",
              "        vertical-align: top;\n",
              "    }\n",
              "\n",
              "    .dataframe thead th {\n",
              "        text-align: right;\n",
              "    }\n",
              "</style>\n",
              "<table border=\"1\" class=\"dataframe\">\n",
              "  <thead>\n",
              "    <tr style=\"text-align: right;\">\n",
              "      <th></th>\n",
              "      <th>Open</th>\n",
              "      <th>High</th>\n",
              "      <th>Low</th>\n",
              "      <th>Close</th>\n",
              "      <th>Adj Close</th>\n",
              "      <th>Volume</th>\n",
              "      <th>Name</th>\n",
              "    </tr>\n",
              "    <tr>\n",
              "      <th>Date</th>\n",
              "      <th></th>\n",
              "      <th></th>\n",
              "      <th></th>\n",
              "      <th></th>\n",
              "      <th></th>\n",
              "      <th></th>\n",
              "      <th></th>\n",
              "    </tr>\n",
              "  </thead>\n",
              "  <tbody>\n",
              "    <tr>\n",
              "      <th>2018-01-02</th>\n",
              "      <td>56.020000</td>\n",
              "      <td>56.020000</td>\n",
              "      <td>55.070000</td>\n",
              "      <td>55.389999</td>\n",
              "      <td>55.389999</td>\n",
              "      <td>3629</td>\n",
              "      <td>VNRT.DE</td>\n",
              "    </tr>\n",
              "    <tr>\n",
              "      <th>2018-01-03</th>\n",
              "      <td>55.750000</td>\n",
              "      <td>55.860001</td>\n",
              "      <td>55.750000</td>\n",
              "      <td>55.860001</td>\n",
              "      <td>55.860001</td>\n",
              "      <td>350</td>\n",
              "      <td>VNRT.DE</td>\n",
              "    </tr>\n",
              "    <tr>\n",
              "      <th>2018-01-04</th>\n",
              "      <td>55.889999</td>\n",
              "      <td>55.970001</td>\n",
              "      <td>55.889999</td>\n",
              "      <td>55.950001</td>\n",
              "      <td>55.950001</td>\n",
              "      <td>107</td>\n",
              "      <td>VNRT.DE</td>\n",
              "    </tr>\n",
              "    <tr>\n",
              "      <th>2018-01-05</th>\n",
              "      <td>56.150002</td>\n",
              "      <td>56.380001</td>\n",
              "      <td>56.139999</td>\n",
              "      <td>56.380001</td>\n",
              "      <td>56.380001</td>\n",
              "      <td>375</td>\n",
              "      <td>VNRT.DE</td>\n",
              "    </tr>\n",
              "    <tr>\n",
              "      <th>2018-01-08</th>\n",
              "      <td>56.750000</td>\n",
              "      <td>56.799999</td>\n",
              "      <td>56.709999</td>\n",
              "      <td>56.799999</td>\n",
              "      <td>56.799999</td>\n",
              "      <td>383</td>\n",
              "      <td>VNRT.DE</td>\n",
              "    </tr>\n",
              "    <tr>\n",
              "      <th>...</th>\n",
              "      <td>...</td>\n",
              "      <td>...</td>\n",
              "      <td>...</td>\n",
              "      <td>...</td>\n",
              "      <td>...</td>\n",
              "      <td>...</td>\n",
              "      <td>...</td>\n",
              "    </tr>\n",
              "    <tr>\n",
              "      <th>2022-12-22</th>\n",
              "      <td>109.355003</td>\n",
              "      <td>109.355003</td>\n",
              "      <td>109.355003</td>\n",
              "      <td>109.235001</td>\n",
              "      <td>109.235001</td>\n",
              "      <td>2324</td>\n",
              "      <td>CSHD.L</td>\n",
              "    </tr>\n",
              "    <tr>\n",
              "      <th>2022-12-23</th>\n",
              "      <td>109.415001</td>\n",
              "      <td>109.415001</td>\n",
              "      <td>109.415001</td>\n",
              "      <td>109.415001</td>\n",
              "      <td>109.415001</td>\n",
              "      <td>0</td>\n",
              "      <td>CSHD.L</td>\n",
              "    </tr>\n",
              "    <tr>\n",
              "      <th>2022-12-28</th>\n",
              "      <td>109.900002</td>\n",
              "      <td>109.900002</td>\n",
              "      <td>109.544998</td>\n",
              "      <td>109.474998</td>\n",
              "      <td>109.474998</td>\n",
              "      <td>15</td>\n",
              "      <td>CSHD.L</td>\n",
              "    </tr>\n",
              "    <tr>\n",
              "      <th>2022-12-29</th>\n",
              "      <td>109.709999</td>\n",
              "      <td>109.959999</td>\n",
              "      <td>109.684998</td>\n",
              "      <td>109.974998</td>\n",
              "      <td>109.974998</td>\n",
              "      <td>20986</td>\n",
              "      <td>CSHD.L</td>\n",
              "    </tr>\n",
              "    <tr>\n",
              "      <th>2022-12-30</th>\n",
              "      <td>109.980003</td>\n",
              "      <td>110.315002</td>\n",
              "      <td>109.980003</td>\n",
              "      <td>110.144997</td>\n",
              "      <td>110.144997</td>\n",
              "      <td>4648</td>\n",
              "      <td>CSHD.L</td>\n",
              "    </tr>\n",
              "  </tbody>\n",
              "</table>\n",
              "<p>7608 rows × 7 columns</p>\n",
              "</div>\n",
              "      <button class=\"colab-df-convert\" onclick=\"convertToInteractive('df-7a9d9ec7-e222-4742-b3eb-b9f7b8b1d827')\"\n",
              "              title=\"Convert this dataframe to an interactive table.\"\n",
              "              style=\"display:none;\">\n",
              "        \n",
              "  <svg xmlns=\"http://www.w3.org/2000/svg\" height=\"24px\"viewBox=\"0 0 24 24\"\n",
              "       width=\"24px\">\n",
              "    <path d=\"M0 0h24v24H0V0z\" fill=\"none\"/>\n",
              "    <path d=\"M18.56 5.44l.94 2.06.94-2.06 2.06-.94-2.06-.94-.94-2.06-.94 2.06-2.06.94zm-11 1L8.5 8.5l.94-2.06 2.06-.94-2.06-.94L8.5 2.5l-.94 2.06-2.06.94zm10 10l.94 2.06.94-2.06 2.06-.94-2.06-.94-.94-2.06-.94 2.06-2.06.94z\"/><path d=\"M17.41 7.96l-1.37-1.37c-.4-.4-.92-.59-1.43-.59-.52 0-1.04.2-1.43.59L10.3 9.45l-7.72 7.72c-.78.78-.78 2.05 0 2.83L4 21.41c.39.39.9.59 1.41.59.51 0 1.02-.2 1.41-.59l7.78-7.78 2.81-2.81c.8-.78.8-2.07 0-2.86zM5.41 20L4 18.59l7.72-7.72 1.47 1.35L5.41 20z\"/>\n",
              "  </svg>\n",
              "      </button>\n",
              "      \n",
              "  <style>\n",
              "    .colab-df-container {\n",
              "      display:flex;\n",
              "      flex-wrap:wrap;\n",
              "      gap: 12px;\n",
              "    }\n",
              "\n",
              "    .colab-df-convert {\n",
              "      background-color: #E8F0FE;\n",
              "      border: none;\n",
              "      border-radius: 50%;\n",
              "      cursor: pointer;\n",
              "      display: none;\n",
              "      fill: #1967D2;\n",
              "      height: 32px;\n",
              "      padding: 0 0 0 0;\n",
              "      width: 32px;\n",
              "    }\n",
              "\n",
              "    .colab-df-convert:hover {\n",
              "      background-color: #E2EBFA;\n",
              "      box-shadow: 0px 1px 2px rgba(60, 64, 67, 0.3), 0px 1px 3px 1px rgba(60, 64, 67, 0.15);\n",
              "      fill: #174EA6;\n",
              "    }\n",
              "\n",
              "    [theme=dark] .colab-df-convert {\n",
              "      background-color: #3B4455;\n",
              "      fill: #D2E3FC;\n",
              "    }\n",
              "\n",
              "    [theme=dark] .colab-df-convert:hover {\n",
              "      background-color: #434B5C;\n",
              "      box-shadow: 0px 1px 3px 1px rgba(0, 0, 0, 0.15);\n",
              "      filter: drop-shadow(0px 1px 2px rgba(0, 0, 0, 0.3));\n",
              "      fill: #FFFFFF;\n",
              "    }\n",
              "  </style>\n",
              "\n",
              "      <script>\n",
              "        const buttonEl =\n",
              "          document.querySelector('#df-7a9d9ec7-e222-4742-b3eb-b9f7b8b1d827 button.colab-df-convert');\n",
              "        buttonEl.style.display =\n",
              "          google.colab.kernel.accessAllowed ? 'block' : 'none';\n",
              "\n",
              "        async function convertToInteractive(key) {\n",
              "          const element = document.querySelector('#df-7a9d9ec7-e222-4742-b3eb-b9f7b8b1d827');\n",
              "          const dataTable =\n",
              "            await google.colab.kernel.invokeFunction('convertToInteractive',\n",
              "                                                     [key], {});\n",
              "          if (!dataTable) return;\n",
              "\n",
              "          const docLinkHtml = 'Like what you see? Visit the ' +\n",
              "            '<a target=\"_blank\" href=https://colab.research.google.com/notebooks/data_table.ipynb>data table notebook</a>'\n",
              "            + ' to learn more about interactive tables.';\n",
              "          element.innerHTML = '';\n",
              "          dataTable['output_type'] = 'display_data';\n",
              "          await google.colab.output.renderOutput(dataTable, element);\n",
              "          const docLink = document.createElement('div');\n",
              "          docLink.innerHTML = docLinkHtml;\n",
              "          element.appendChild(docLink);\n",
              "        }\n",
              "      </script>\n",
              "    </div>\n",
              "  </div>\n",
              "  "
            ]
          },
          "metadata": {},
          "execution_count": 6
        }
      ]
    },
    {
      "cell_type": "code",
      "source": [
        "price_hist_df.shape"
      ],
      "metadata": {
        "colab": {
          "base_uri": "https://localhost:8080/"
        },
        "id": "0dj2kiHjpzqm",
        "outputId": "81f52e18-835a-4782-fbb4-30705d1c9c91"
      },
      "execution_count": null,
      "outputs": [
        {
          "output_type": "execute_result",
          "data": {
            "text/plain": [
              "(7608, 7)"
            ]
          },
          "metadata": {},
          "execution_count": 7
        }
      ]
    },
    {
      "cell_type": "markdown",
      "source": [
        "Adjusted close is the closing price after adjustments for all applicable splits and dividend distributions. Data is adjusted using appropriate split and dividend multipliers, adhering to Center for Research in Security Prices (CRSP) standards."
      ],
      "metadata": {
        "id": "iSwYdLJtvW59"
      }
    },
    {
      "cell_type": "code",
      "source": [
        "price_hist_df.describe()"
      ],
      "metadata": {
        "colab": {
          "base_uri": "https://localhost:8080/",
          "height": 300
        },
        "id": "Qw0qQXmqqOag",
        "outputId": "f33432f3-5303-4b09-a8b1-9d061c4e250f"
      },
      "execution_count": null,
      "outputs": [
        {
          "output_type": "execute_result",
          "data": {
            "text/plain": [
              "              Open         High          Low        Close    Adj Close  \\\n",
              "count  7608.000000  7608.000000  7608.000000  7608.000000  7608.000000   \n",
              "mean     54.824990    54.981083    54.642839    54.811661    54.811661   \n",
              "std      34.378716    34.401261    34.357264    34.376286    34.376286   \n",
              "min      15.274000    15.624000    15.162000    15.330000    15.330000   \n",
              "25%      27.055000    27.145000    26.955000    27.059999    27.059999   \n",
              "50%      37.932501    37.997499    37.867500    37.927500    37.927500   \n",
              "75%      70.602499    70.884998    70.482502    70.744999    70.744999   \n",
              "max     132.460007   132.690002   132.270004   132.449997   132.449997   \n",
              "\n",
              "              Volume  \n",
              "count    7608.000000  \n",
              "mean    13600.154048  \n",
              "std     20820.649043  \n",
              "min         0.000000  \n",
              "25%      2118.500000  \n",
              "50%      7124.500000  \n",
              "75%     16812.500000  \n",
              "max    341186.000000  "
            ],
            "text/html": [
              "\n",
              "  <div id=\"df-76caa5e5-af2b-4678-b0ce-c9af43c0223e\">\n",
              "    <div class=\"colab-df-container\">\n",
              "      <div>\n",
              "<style scoped>\n",
              "    .dataframe tbody tr th:only-of-type {\n",
              "        vertical-align: middle;\n",
              "    }\n",
              "\n",
              "    .dataframe tbody tr th {\n",
              "        vertical-align: top;\n",
              "    }\n",
              "\n",
              "    .dataframe thead th {\n",
              "        text-align: right;\n",
              "    }\n",
              "</style>\n",
              "<table border=\"1\" class=\"dataframe\">\n",
              "  <thead>\n",
              "    <tr style=\"text-align: right;\">\n",
              "      <th></th>\n",
              "      <th>Open</th>\n",
              "      <th>High</th>\n",
              "      <th>Low</th>\n",
              "      <th>Close</th>\n",
              "      <th>Adj Close</th>\n",
              "      <th>Volume</th>\n",
              "    </tr>\n",
              "  </thead>\n",
              "  <tbody>\n",
              "    <tr>\n",
              "      <th>count</th>\n",
              "      <td>7608.000000</td>\n",
              "      <td>7608.000000</td>\n",
              "      <td>7608.000000</td>\n",
              "      <td>7608.000000</td>\n",
              "      <td>7608.000000</td>\n",
              "      <td>7608.000000</td>\n",
              "    </tr>\n",
              "    <tr>\n",
              "      <th>mean</th>\n",
              "      <td>54.824990</td>\n",
              "      <td>54.981083</td>\n",
              "      <td>54.642839</td>\n",
              "      <td>54.811661</td>\n",
              "      <td>54.811661</td>\n",
              "      <td>13600.154048</td>\n",
              "    </tr>\n",
              "    <tr>\n",
              "      <th>std</th>\n",
              "      <td>34.378716</td>\n",
              "      <td>34.401261</td>\n",
              "      <td>34.357264</td>\n",
              "      <td>34.376286</td>\n",
              "      <td>34.376286</td>\n",
              "      <td>20820.649043</td>\n",
              "    </tr>\n",
              "    <tr>\n",
              "      <th>min</th>\n",
              "      <td>15.274000</td>\n",
              "      <td>15.624000</td>\n",
              "      <td>15.162000</td>\n",
              "      <td>15.330000</td>\n",
              "      <td>15.330000</td>\n",
              "      <td>0.000000</td>\n",
              "    </tr>\n",
              "    <tr>\n",
              "      <th>25%</th>\n",
              "      <td>27.055000</td>\n",
              "      <td>27.145000</td>\n",
              "      <td>26.955000</td>\n",
              "      <td>27.059999</td>\n",
              "      <td>27.059999</td>\n",
              "      <td>2118.500000</td>\n",
              "    </tr>\n",
              "    <tr>\n",
              "      <th>50%</th>\n",
              "      <td>37.932501</td>\n",
              "      <td>37.997499</td>\n",
              "      <td>37.867500</td>\n",
              "      <td>37.927500</td>\n",
              "      <td>37.927500</td>\n",
              "      <td>7124.500000</td>\n",
              "    </tr>\n",
              "    <tr>\n",
              "      <th>75%</th>\n",
              "      <td>70.602499</td>\n",
              "      <td>70.884998</td>\n",
              "      <td>70.482502</td>\n",
              "      <td>70.744999</td>\n",
              "      <td>70.744999</td>\n",
              "      <td>16812.500000</td>\n",
              "    </tr>\n",
              "    <tr>\n",
              "      <th>max</th>\n",
              "      <td>132.460007</td>\n",
              "      <td>132.690002</td>\n",
              "      <td>132.270004</td>\n",
              "      <td>132.449997</td>\n",
              "      <td>132.449997</td>\n",
              "      <td>341186.000000</td>\n",
              "    </tr>\n",
              "  </tbody>\n",
              "</table>\n",
              "</div>\n",
              "      <button class=\"colab-df-convert\" onclick=\"convertToInteractive('df-76caa5e5-af2b-4678-b0ce-c9af43c0223e')\"\n",
              "              title=\"Convert this dataframe to an interactive table.\"\n",
              "              style=\"display:none;\">\n",
              "        \n",
              "  <svg xmlns=\"http://www.w3.org/2000/svg\" height=\"24px\"viewBox=\"0 0 24 24\"\n",
              "       width=\"24px\">\n",
              "    <path d=\"M0 0h24v24H0V0z\" fill=\"none\"/>\n",
              "    <path d=\"M18.56 5.44l.94 2.06.94-2.06 2.06-.94-2.06-.94-.94-2.06-.94 2.06-2.06.94zm-11 1L8.5 8.5l.94-2.06 2.06-.94-2.06-.94L8.5 2.5l-.94 2.06-2.06.94zm10 10l.94 2.06.94-2.06 2.06-.94-2.06-.94-.94-2.06-.94 2.06-2.06.94z\"/><path d=\"M17.41 7.96l-1.37-1.37c-.4-.4-.92-.59-1.43-.59-.52 0-1.04.2-1.43.59L10.3 9.45l-7.72 7.72c-.78.78-.78 2.05 0 2.83L4 21.41c.39.39.9.59 1.41.59.51 0 1.02-.2 1.41-.59l7.78-7.78 2.81-2.81c.8-.78.8-2.07 0-2.86zM5.41 20L4 18.59l7.72-7.72 1.47 1.35L5.41 20z\"/>\n",
              "  </svg>\n",
              "      </button>\n",
              "      \n",
              "  <style>\n",
              "    .colab-df-container {\n",
              "      display:flex;\n",
              "      flex-wrap:wrap;\n",
              "      gap: 12px;\n",
              "    }\n",
              "\n",
              "    .colab-df-convert {\n",
              "      background-color: #E8F0FE;\n",
              "      border: none;\n",
              "      border-radius: 50%;\n",
              "      cursor: pointer;\n",
              "      display: none;\n",
              "      fill: #1967D2;\n",
              "      height: 32px;\n",
              "      padding: 0 0 0 0;\n",
              "      width: 32px;\n",
              "    }\n",
              "\n",
              "    .colab-df-convert:hover {\n",
              "      background-color: #E2EBFA;\n",
              "      box-shadow: 0px 1px 2px rgba(60, 64, 67, 0.3), 0px 1px 3px 1px rgba(60, 64, 67, 0.15);\n",
              "      fill: #174EA6;\n",
              "    }\n",
              "\n",
              "    [theme=dark] .colab-df-convert {\n",
              "      background-color: #3B4455;\n",
              "      fill: #D2E3FC;\n",
              "    }\n",
              "\n",
              "    [theme=dark] .colab-df-convert:hover {\n",
              "      background-color: #434B5C;\n",
              "      box-shadow: 0px 1px 3px 1px rgba(0, 0, 0, 0.15);\n",
              "      filter: drop-shadow(0px 1px 2px rgba(0, 0, 0, 0.3));\n",
              "      fill: #FFFFFF;\n",
              "    }\n",
              "  </style>\n",
              "\n",
              "      <script>\n",
              "        const buttonEl =\n",
              "          document.querySelector('#df-76caa5e5-af2b-4678-b0ce-c9af43c0223e button.colab-df-convert');\n",
              "        buttonEl.style.display =\n",
              "          google.colab.kernel.accessAllowed ? 'block' : 'none';\n",
              "\n",
              "        async function convertToInteractive(key) {\n",
              "          const element = document.querySelector('#df-76caa5e5-af2b-4678-b0ce-c9af43c0223e');\n",
              "          const dataTable =\n",
              "            await google.colab.kernel.invokeFunction('convertToInteractive',\n",
              "                                                     [key], {});\n",
              "          if (!dataTable) return;\n",
              "\n",
              "          const docLinkHtml = 'Like what you see? Visit the ' +\n",
              "            '<a target=\"_blank\" href=https://colab.research.google.com/notebooks/data_table.ipynb>data table notebook</a>'\n",
              "            + ' to learn more about interactive tables.';\n",
              "          element.innerHTML = '';\n",
              "          dataTable['output_type'] = 'display_data';\n",
              "          await google.colab.output.renderOutput(dataTable, element);\n",
              "          const docLink = document.createElement('div');\n",
              "          docLink.innerHTML = docLinkHtml;\n",
              "          element.appendChild(docLink);\n",
              "        }\n",
              "      </script>\n",
              "    </div>\n",
              "  </div>\n",
              "  "
            ]
          },
          "metadata": {},
          "execution_count": 8
        }
      ]
    },
    {
      "cell_type": "code",
      "source": [
        "price_hist_df.isna().sum()"
      ],
      "metadata": {
        "colab": {
          "base_uri": "https://localhost:8080/"
        },
        "id": "9EibB0azqRwP",
        "outputId": "b3cd5269-c725-4624-a68c-6cd5af751c70"
      },
      "execution_count": null,
      "outputs": [
        {
          "output_type": "execute_result",
          "data": {
            "text/plain": [
              "Open         0\n",
              "High         0\n",
              "Low          0\n",
              "Close        0\n",
              "Adj Close    0\n",
              "Volume       0\n",
              "Name         0\n",
              "dtype: int64"
            ]
          },
          "metadata": {},
          "execution_count": 9
        }
      ]
    },
    {
      "cell_type": "code",
      "source": [
        "price_hist_df = price_hist_df.drop([\"Open\",\"High\",\"Low\",\"Adj Close\",\"Volume\"],axis=1)\n",
        "\n",
        "price_hist_df"
      ],
      "metadata": {
        "colab": {
          "base_uri": "https://localhost:8080/",
          "height": 455
        },
        "id": "AM8Ko_6rsiah",
        "outputId": "76f06b6c-c223-43e5-d1d4-bbba84c987e2"
      },
      "execution_count": null,
      "outputs": [
        {
          "output_type": "execute_result",
          "data": {
            "text/plain": [
              "                 Close     Name\n",
              "Date                           \n",
              "2018-01-02   55.389999  VNRT.DE\n",
              "2018-01-03   55.860001  VNRT.DE\n",
              "2018-01-04   55.950001  VNRT.DE\n",
              "2018-01-05   56.380001  VNRT.DE\n",
              "2018-01-08   56.799999  VNRT.DE\n",
              "...                ...      ...\n",
              "2022-12-22  109.235001   CSHD.L\n",
              "2022-12-23  109.415001   CSHD.L\n",
              "2022-12-28  109.474998   CSHD.L\n",
              "2022-12-29  109.974998   CSHD.L\n",
              "2022-12-30  110.144997   CSHD.L\n",
              "\n",
              "[7608 rows x 2 columns]"
            ],
            "text/html": [
              "\n",
              "  <div id=\"df-f647ef6f-28b7-4760-ada9-73d419452790\">\n",
              "    <div class=\"colab-df-container\">\n",
              "      <div>\n",
              "<style scoped>\n",
              "    .dataframe tbody tr th:only-of-type {\n",
              "        vertical-align: middle;\n",
              "    }\n",
              "\n",
              "    .dataframe tbody tr th {\n",
              "        vertical-align: top;\n",
              "    }\n",
              "\n",
              "    .dataframe thead th {\n",
              "        text-align: right;\n",
              "    }\n",
              "</style>\n",
              "<table border=\"1\" class=\"dataframe\">\n",
              "  <thead>\n",
              "    <tr style=\"text-align: right;\">\n",
              "      <th></th>\n",
              "      <th>Close</th>\n",
              "      <th>Name</th>\n",
              "    </tr>\n",
              "    <tr>\n",
              "      <th>Date</th>\n",
              "      <th></th>\n",
              "      <th></th>\n",
              "    </tr>\n",
              "  </thead>\n",
              "  <tbody>\n",
              "    <tr>\n",
              "      <th>2018-01-02</th>\n",
              "      <td>55.389999</td>\n",
              "      <td>VNRT.DE</td>\n",
              "    </tr>\n",
              "    <tr>\n",
              "      <th>2018-01-03</th>\n",
              "      <td>55.860001</td>\n",
              "      <td>VNRT.DE</td>\n",
              "    </tr>\n",
              "    <tr>\n",
              "      <th>2018-01-04</th>\n",
              "      <td>55.950001</td>\n",
              "      <td>VNRT.DE</td>\n",
              "    </tr>\n",
              "    <tr>\n",
              "      <th>2018-01-05</th>\n",
              "      <td>56.380001</td>\n",
              "      <td>VNRT.DE</td>\n",
              "    </tr>\n",
              "    <tr>\n",
              "      <th>2018-01-08</th>\n",
              "      <td>56.799999</td>\n",
              "      <td>VNRT.DE</td>\n",
              "    </tr>\n",
              "    <tr>\n",
              "      <th>...</th>\n",
              "      <td>...</td>\n",
              "      <td>...</td>\n",
              "    </tr>\n",
              "    <tr>\n",
              "      <th>2022-12-22</th>\n",
              "      <td>109.235001</td>\n",
              "      <td>CSHD.L</td>\n",
              "    </tr>\n",
              "    <tr>\n",
              "      <th>2022-12-23</th>\n",
              "      <td>109.415001</td>\n",
              "      <td>CSHD.L</td>\n",
              "    </tr>\n",
              "    <tr>\n",
              "      <th>2022-12-28</th>\n",
              "      <td>109.474998</td>\n",
              "      <td>CSHD.L</td>\n",
              "    </tr>\n",
              "    <tr>\n",
              "      <th>2022-12-29</th>\n",
              "      <td>109.974998</td>\n",
              "      <td>CSHD.L</td>\n",
              "    </tr>\n",
              "    <tr>\n",
              "      <th>2022-12-30</th>\n",
              "      <td>110.144997</td>\n",
              "      <td>CSHD.L</td>\n",
              "    </tr>\n",
              "  </tbody>\n",
              "</table>\n",
              "<p>7608 rows × 2 columns</p>\n",
              "</div>\n",
              "      <button class=\"colab-df-convert\" onclick=\"convertToInteractive('df-f647ef6f-28b7-4760-ada9-73d419452790')\"\n",
              "              title=\"Convert this dataframe to an interactive table.\"\n",
              "              style=\"display:none;\">\n",
              "        \n",
              "  <svg xmlns=\"http://www.w3.org/2000/svg\" height=\"24px\"viewBox=\"0 0 24 24\"\n",
              "       width=\"24px\">\n",
              "    <path d=\"M0 0h24v24H0V0z\" fill=\"none\"/>\n",
              "    <path d=\"M18.56 5.44l.94 2.06.94-2.06 2.06-.94-2.06-.94-.94-2.06-.94 2.06-2.06.94zm-11 1L8.5 8.5l.94-2.06 2.06-.94-2.06-.94L8.5 2.5l-.94 2.06-2.06.94zm10 10l.94 2.06.94-2.06 2.06-.94-2.06-.94-.94-2.06-.94 2.06-2.06.94z\"/><path d=\"M17.41 7.96l-1.37-1.37c-.4-.4-.92-.59-1.43-.59-.52 0-1.04.2-1.43.59L10.3 9.45l-7.72 7.72c-.78.78-.78 2.05 0 2.83L4 21.41c.39.39.9.59 1.41.59.51 0 1.02-.2 1.41-.59l7.78-7.78 2.81-2.81c.8-.78.8-2.07 0-2.86zM5.41 20L4 18.59l7.72-7.72 1.47 1.35L5.41 20z\"/>\n",
              "  </svg>\n",
              "      </button>\n",
              "      \n",
              "  <style>\n",
              "    .colab-df-container {\n",
              "      display:flex;\n",
              "      flex-wrap:wrap;\n",
              "      gap: 12px;\n",
              "    }\n",
              "\n",
              "    .colab-df-convert {\n",
              "      background-color: #E8F0FE;\n",
              "      border: none;\n",
              "      border-radius: 50%;\n",
              "      cursor: pointer;\n",
              "      display: none;\n",
              "      fill: #1967D2;\n",
              "      height: 32px;\n",
              "      padding: 0 0 0 0;\n",
              "      width: 32px;\n",
              "    }\n",
              "\n",
              "    .colab-df-convert:hover {\n",
              "      background-color: #E2EBFA;\n",
              "      box-shadow: 0px 1px 2px rgba(60, 64, 67, 0.3), 0px 1px 3px 1px rgba(60, 64, 67, 0.15);\n",
              "      fill: #174EA6;\n",
              "    }\n",
              "\n",
              "    [theme=dark] .colab-df-convert {\n",
              "      background-color: #3B4455;\n",
              "      fill: #D2E3FC;\n",
              "    }\n",
              "\n",
              "    [theme=dark] .colab-df-convert:hover {\n",
              "      background-color: #434B5C;\n",
              "      box-shadow: 0px 1px 3px 1px rgba(0, 0, 0, 0.15);\n",
              "      filter: drop-shadow(0px 1px 2px rgba(0, 0, 0, 0.3));\n",
              "      fill: #FFFFFF;\n",
              "    }\n",
              "  </style>\n",
              "\n",
              "      <script>\n",
              "        const buttonEl =\n",
              "          document.querySelector('#df-f647ef6f-28b7-4760-ada9-73d419452790 button.colab-df-convert');\n",
              "        buttonEl.style.display =\n",
              "          google.colab.kernel.accessAllowed ? 'block' : 'none';\n",
              "\n",
              "        async function convertToInteractive(key) {\n",
              "          const element = document.querySelector('#df-f647ef6f-28b7-4760-ada9-73d419452790');\n",
              "          const dataTable =\n",
              "            await google.colab.kernel.invokeFunction('convertToInteractive',\n",
              "                                                     [key], {});\n",
              "          if (!dataTable) return;\n",
              "\n",
              "          const docLinkHtml = 'Like what you see? Visit the ' +\n",
              "            '<a target=\"_blank\" href=https://colab.research.google.com/notebooks/data_table.ipynb>data table notebook</a>'\n",
              "            + ' to learn more about interactive tables.';\n",
              "          element.innerHTML = '';\n",
              "          dataTable['output_type'] = 'display_data';\n",
              "          await google.colab.output.renderOutput(dataTable, element);\n",
              "          const docLink = document.createElement('div');\n",
              "          docLink.innerHTML = docLinkHtml;\n",
              "          element.appendChild(docLink);\n",
              "        }\n",
              "      </script>\n",
              "    </div>\n",
              "  </div>\n",
              "  "
            ]
          },
          "metadata": {},
          "execution_count": 7
        }
      ]
    },
    {
      "cell_type": "code",
      "source": [
        "# reshaping the dataframe\n",
        "prices_reshaped_df = pd.pivot_table(price_hist_df, values ='Close', index =['Date'],columns =['Name']).reset_index().ffill(axis=0) # ffill: fill NaNs with preceding values\n",
        "\n",
        "prices_reshaped_df = prices_reshaped_df.set_index(\"Date\") # new index\n",
        "\n",
        "\n",
        "prices_reshaped_df # 4years*252 trading days = 1008 days woth of price data"
      ],
      "metadata": {
        "colab": {
          "base_uri": "https://localhost:8080/",
          "height": 455
        },
        "id": "fVWhPiRstII4",
        "outputId": "115daf32-5e42-48b9-d49b-834206ec153b"
      },
      "execution_count": null,
      "outputs": [
        {
          "output_type": "execute_result",
          "data": {
            "text/plain": [
              "Name            CSHD.L    VFEM.DE    VGEJ.DE    VGEU.DE    VJPN.DE    VNRT.DE\n",
              "Date                                                                         \n",
              "2018-01-02  126.599998  52.139999  23.094999  30.660000  26.629999  55.389999\n",
              "2018-01-03  127.349998  52.889999  23.309999  30.850000  27.059999  55.860001\n",
              "2018-01-04  127.849998  53.139999  23.309999  31.115000  27.315001  55.950001\n",
              "2018-01-05  127.459999  53.590000  23.480000  31.385000  27.410000  56.380001\n",
              "2018-01-08  126.879997  53.900002  23.480000  31.500000  27.764999  56.799999\n",
              "...                ...        ...        ...        ...        ...        ...\n",
              "2022-12-23  109.415001  49.805000  23.125000  33.025002  27.264999  87.610001\n",
              "2022-12-27  109.415001  50.240002  23.205000  33.064999  27.115000  87.519997\n",
              "2022-12-28  109.474998  49.980000  23.055000  32.939999  27.014999  87.040001\n",
              "2022-12-29  109.974998  50.520000  23.059999  33.180000  27.235001  87.699997\n",
              "2022-12-30  110.144997  49.965000  22.990000  32.900002  27.059999  87.089996\n",
              "\n",
              "[1285 rows x 6 columns]"
            ],
            "text/html": [
              "\n",
              "  <div id=\"df-6b134ff8-7ec1-47ad-8e01-7b384be93099\">\n",
              "    <div class=\"colab-df-container\">\n",
              "      <div>\n",
              "<style scoped>\n",
              "    .dataframe tbody tr th:only-of-type {\n",
              "        vertical-align: middle;\n",
              "    }\n",
              "\n",
              "    .dataframe tbody tr th {\n",
              "        vertical-align: top;\n",
              "    }\n",
              "\n",
              "    .dataframe thead th {\n",
              "        text-align: right;\n",
              "    }\n",
              "</style>\n",
              "<table border=\"1\" class=\"dataframe\">\n",
              "  <thead>\n",
              "    <tr style=\"text-align: right;\">\n",
              "      <th>Name</th>\n",
              "      <th>CSHD.L</th>\n",
              "      <th>VFEM.DE</th>\n",
              "      <th>VGEJ.DE</th>\n",
              "      <th>VGEU.DE</th>\n",
              "      <th>VJPN.DE</th>\n",
              "      <th>VNRT.DE</th>\n",
              "    </tr>\n",
              "    <tr>\n",
              "      <th>Date</th>\n",
              "      <th></th>\n",
              "      <th></th>\n",
              "      <th></th>\n",
              "      <th></th>\n",
              "      <th></th>\n",
              "      <th></th>\n",
              "    </tr>\n",
              "  </thead>\n",
              "  <tbody>\n",
              "    <tr>\n",
              "      <th>2018-01-02</th>\n",
              "      <td>126.599998</td>\n",
              "      <td>52.139999</td>\n",
              "      <td>23.094999</td>\n",
              "      <td>30.660000</td>\n",
              "      <td>26.629999</td>\n",
              "      <td>55.389999</td>\n",
              "    </tr>\n",
              "    <tr>\n",
              "      <th>2018-01-03</th>\n",
              "      <td>127.349998</td>\n",
              "      <td>52.889999</td>\n",
              "      <td>23.309999</td>\n",
              "      <td>30.850000</td>\n",
              "      <td>27.059999</td>\n",
              "      <td>55.860001</td>\n",
              "    </tr>\n",
              "    <tr>\n",
              "      <th>2018-01-04</th>\n",
              "      <td>127.849998</td>\n",
              "      <td>53.139999</td>\n",
              "      <td>23.309999</td>\n",
              "      <td>31.115000</td>\n",
              "      <td>27.315001</td>\n",
              "      <td>55.950001</td>\n",
              "    </tr>\n",
              "    <tr>\n",
              "      <th>2018-01-05</th>\n",
              "      <td>127.459999</td>\n",
              "      <td>53.590000</td>\n",
              "      <td>23.480000</td>\n",
              "      <td>31.385000</td>\n",
              "      <td>27.410000</td>\n",
              "      <td>56.380001</td>\n",
              "    </tr>\n",
              "    <tr>\n",
              "      <th>2018-01-08</th>\n",
              "      <td>126.879997</td>\n",
              "      <td>53.900002</td>\n",
              "      <td>23.480000</td>\n",
              "      <td>31.500000</td>\n",
              "      <td>27.764999</td>\n",
              "      <td>56.799999</td>\n",
              "    </tr>\n",
              "    <tr>\n",
              "      <th>...</th>\n",
              "      <td>...</td>\n",
              "      <td>...</td>\n",
              "      <td>...</td>\n",
              "      <td>...</td>\n",
              "      <td>...</td>\n",
              "      <td>...</td>\n",
              "    </tr>\n",
              "    <tr>\n",
              "      <th>2022-12-23</th>\n",
              "      <td>109.415001</td>\n",
              "      <td>49.805000</td>\n",
              "      <td>23.125000</td>\n",
              "      <td>33.025002</td>\n",
              "      <td>27.264999</td>\n",
              "      <td>87.610001</td>\n",
              "    </tr>\n",
              "    <tr>\n",
              "      <th>2022-12-27</th>\n",
              "      <td>109.415001</td>\n",
              "      <td>50.240002</td>\n",
              "      <td>23.205000</td>\n",
              "      <td>33.064999</td>\n",
              "      <td>27.115000</td>\n",
              "      <td>87.519997</td>\n",
              "    </tr>\n",
              "    <tr>\n",
              "      <th>2022-12-28</th>\n",
              "      <td>109.474998</td>\n",
              "      <td>49.980000</td>\n",
              "      <td>23.055000</td>\n",
              "      <td>32.939999</td>\n",
              "      <td>27.014999</td>\n",
              "      <td>87.040001</td>\n",
              "    </tr>\n",
              "    <tr>\n",
              "      <th>2022-12-29</th>\n",
              "      <td>109.974998</td>\n",
              "      <td>50.520000</td>\n",
              "      <td>23.059999</td>\n",
              "      <td>33.180000</td>\n",
              "      <td>27.235001</td>\n",
              "      <td>87.699997</td>\n",
              "    </tr>\n",
              "    <tr>\n",
              "      <th>2022-12-30</th>\n",
              "      <td>110.144997</td>\n",
              "      <td>49.965000</td>\n",
              "      <td>22.990000</td>\n",
              "      <td>32.900002</td>\n",
              "      <td>27.059999</td>\n",
              "      <td>87.089996</td>\n",
              "    </tr>\n",
              "  </tbody>\n",
              "</table>\n",
              "<p>1285 rows × 6 columns</p>\n",
              "</div>\n",
              "      <button class=\"colab-df-convert\" onclick=\"convertToInteractive('df-6b134ff8-7ec1-47ad-8e01-7b384be93099')\"\n",
              "              title=\"Convert this dataframe to an interactive table.\"\n",
              "              style=\"display:none;\">\n",
              "        \n",
              "  <svg xmlns=\"http://www.w3.org/2000/svg\" height=\"24px\"viewBox=\"0 0 24 24\"\n",
              "       width=\"24px\">\n",
              "    <path d=\"M0 0h24v24H0V0z\" fill=\"none\"/>\n",
              "    <path d=\"M18.56 5.44l.94 2.06.94-2.06 2.06-.94-2.06-.94-.94-2.06-.94 2.06-2.06.94zm-11 1L8.5 8.5l.94-2.06 2.06-.94-2.06-.94L8.5 2.5l-.94 2.06-2.06.94zm10 10l.94 2.06.94-2.06 2.06-.94-2.06-.94-.94-2.06-.94 2.06-2.06.94z\"/><path d=\"M17.41 7.96l-1.37-1.37c-.4-.4-.92-.59-1.43-.59-.52 0-1.04.2-1.43.59L10.3 9.45l-7.72 7.72c-.78.78-.78 2.05 0 2.83L4 21.41c.39.39.9.59 1.41.59.51 0 1.02-.2 1.41-.59l7.78-7.78 2.81-2.81c.8-.78.8-2.07 0-2.86zM5.41 20L4 18.59l7.72-7.72 1.47 1.35L5.41 20z\"/>\n",
              "  </svg>\n",
              "      </button>\n",
              "      \n",
              "  <style>\n",
              "    .colab-df-container {\n",
              "      display:flex;\n",
              "      flex-wrap:wrap;\n",
              "      gap: 12px;\n",
              "    }\n",
              "\n",
              "    .colab-df-convert {\n",
              "      background-color: #E8F0FE;\n",
              "      border: none;\n",
              "      border-radius: 50%;\n",
              "      cursor: pointer;\n",
              "      display: none;\n",
              "      fill: #1967D2;\n",
              "      height: 32px;\n",
              "      padding: 0 0 0 0;\n",
              "      width: 32px;\n",
              "    }\n",
              "\n",
              "    .colab-df-convert:hover {\n",
              "      background-color: #E2EBFA;\n",
              "      box-shadow: 0px 1px 2px rgba(60, 64, 67, 0.3), 0px 1px 3px 1px rgba(60, 64, 67, 0.15);\n",
              "      fill: #174EA6;\n",
              "    }\n",
              "\n",
              "    [theme=dark] .colab-df-convert {\n",
              "      background-color: #3B4455;\n",
              "      fill: #D2E3FC;\n",
              "    }\n",
              "\n",
              "    [theme=dark] .colab-df-convert:hover {\n",
              "      background-color: #434B5C;\n",
              "      box-shadow: 0px 1px 3px 1px rgba(0, 0, 0, 0.15);\n",
              "      filter: drop-shadow(0px 1px 2px rgba(0, 0, 0, 0.3));\n",
              "      fill: #FFFFFF;\n",
              "    }\n",
              "  </style>\n",
              "\n",
              "      <script>\n",
              "        const buttonEl =\n",
              "          document.querySelector('#df-6b134ff8-7ec1-47ad-8e01-7b384be93099 button.colab-df-convert');\n",
              "        buttonEl.style.display =\n",
              "          google.colab.kernel.accessAllowed ? 'block' : 'none';\n",
              "\n",
              "        async function convertToInteractive(key) {\n",
              "          const element = document.querySelector('#df-6b134ff8-7ec1-47ad-8e01-7b384be93099');\n",
              "          const dataTable =\n",
              "            await google.colab.kernel.invokeFunction('convertToInteractive',\n",
              "                                                     [key], {});\n",
              "          if (!dataTable) return;\n",
              "\n",
              "          const docLinkHtml = 'Like what you see? Visit the ' +\n",
              "            '<a target=\"_blank\" href=https://colab.research.google.com/notebooks/data_table.ipynb>data table notebook</a>'\n",
              "            + ' to learn more about interactive tables.';\n",
              "          element.innerHTML = '';\n",
              "          dataTable['output_type'] = 'display_data';\n",
              "          await google.colab.output.renderOutput(dataTable, element);\n",
              "          const docLink = document.createElement('div');\n",
              "          docLink.innerHTML = docLinkHtml;\n",
              "          element.appendChild(docLink);\n",
              "        }\n",
              "      </script>\n",
              "    </div>\n",
              "  </div>\n",
              "  "
            ]
          },
          "metadata": {},
          "execution_count": 8
        }
      ]
    },
    {
      "cell_type": "code",
      "source": [
        "prices_reshaped_df.isna().sum() # check for NaNs"
      ],
      "metadata": {
        "colab": {
          "base_uri": "https://localhost:8080/"
        },
        "id": "JhpBVKh1AoYN",
        "outputId": "b6d496d0-04e6-4387-9c24-80dd7c2ad90c"
      },
      "execution_count": null,
      "outputs": [
        {
          "output_type": "execute_result",
          "data": {
            "text/plain": [
              "Name\n",
              "CSHD.L     0\n",
              "VFEM.DE    0\n",
              "VGEJ.DE    0\n",
              "VGEU.DE    0\n",
              "VJPN.DE    0\n",
              "VNRT.DE    0\n",
              "dtype: int64"
            ]
          },
          "metadata": {},
          "execution_count": 12
        }
      ]
    },
    {
      "cell_type": "code",
      "source": [
        "prices_reshaped_df.columns"
      ],
      "metadata": {
        "colab": {
          "base_uri": "https://localhost:8080/"
        },
        "id": "0jeNd9xE9set",
        "outputId": "abb79275-d672-4372-f4cf-1cad24f65ca0"
      },
      "execution_count": null,
      "outputs": [
        {
          "output_type": "execute_result",
          "data": {
            "text/plain": [
              "Index(['CSHD.L', 'VFEM.DE', 'VGEJ.DE', 'VGEU.DE', 'VJPN.DE', 'VNRT.DE'], dtype='object', name='Name')"
            ]
          },
          "metadata": {},
          "execution_count": 13
        }
      ]
    },
    {
      "cell_type": "code",
      "source": [
        "prices_reshaped_df.plot()\n",
        "plt.title(\"historical ETF share prices\")"
      ],
      "metadata": {
        "colab": {
          "base_uri": "https://localhost:8080/",
          "height": 302
        },
        "id": "Bd44m2Js0Gxq",
        "outputId": "2047db48-69f2-45c0-968c-97dc9dbdecad"
      },
      "execution_count": null,
      "outputs": [
        {
          "output_type": "execute_result",
          "data": {
            "text/plain": [
              "Text(0.5, 1.0, 'historical ETF share prices')"
            ]
          },
          "metadata": {},
          "execution_count": 9
        },
        {
          "output_type": "display_data",
          "data": {
            "text/plain": [
              "<Figure size 432x288 with 1 Axes>"
            ],
            "image/png": "[encoded data removed]"
          },
          "metadata": {
            "needs_background": "light"
          }
        }
      ]
    },
    {
      "cell_type": "code",
      "source": [
        "prices_reshaped_df.to_csv(\"etf_history.csv\") # saving the df to a csv file"
      ],
      "metadata": {
        "id": "NenjWpoVEjD5"
      },
      "execution_count": null,
      "outputs": []
    },
    {
      "cell_type": "code",
      "source": [
        "prices_reshaped_df.isnull().values.any() # mo missing data"
      ],
      "metadata": {
        "colab": {
          "base_uri": "https://localhost:8080/"
        },
        "id": "du5SXf3isBem",
        "outputId": "c5a79b56-6db7-4518-f58d-bf379697f20e"
      },
      "execution_count": null,
      "outputs": [
        {
          "output_type": "execute_result",
          "data": {
            "text/plain": [
              "False"
            ]
          },
          "metadata": {},
          "execution_count": 16
        }
      ]
    },
    {
      "cell_type": "code",
      "source": [
        "prices_reshaped_df.isnull().sum().sum()"
      ],
      "metadata": {
        "colab": {
          "base_uri": "https://localhost:8080/"
        },
        "id": "l_FjmYUxvB9D",
        "outputId": "16436e22-7312-4421-d014-a9a83cad2d69"
      },
      "execution_count": null,
      "outputs": [
        {
          "output_type": "execute_result",
          "data": {
            "text/plain": [
              "0"
            ]
          },
          "metadata": {},
          "execution_count": 17
        }
      ]
    },
    {
      "cell_type": "code",
      "source": [
        "# missing data point -> thus 4 years instead of 5\n",
        "yf.download('VGEU.DE',  \n",
        "            start='2017-10-31', \n",
        "            end='2017-10-31', \n",
        "            progress=False\n",
        "            )\n"
      ],
      "metadata": {
        "colab": {
          "base_uri": "https://localhost:8080/",
          "height": 136
        },
        "id": "oTSwzUJIytFs",
        "outputId": "48c51733-6ec2-49dc-ba99-474cfbd9acda"
      },
      "execution_count": null,
      "outputs": [
        {
          "output_type": "stream",
          "name": "stdout",
          "text": [
            "\n",
            "1 Failed download:\n",
            "- VGEU.DE: No data found for this date range, symbol may be delisted\n"
          ]
        },
        {
          "output_type": "execute_result",
          "data": {
            "text/plain": [
              "Empty DataFrame\n",
              "Columns: [Open, High, Low, Close, Adj Close, Volume]\n",
              "Index: []"
            ],
            "text/html": [
              "\n",
              "  <div id=\"df-f4562ab5-d3e5-49f1-a985-ba4c649d8c99\">\n",
              "    <div class=\"colab-df-container\">\n",
              "      <div>\n",
              "<style scoped>\n",
              "    .dataframe tbody tr th:only-of-type {\n",
              "        vertical-align: middle;\n",
              "    }\n",
              "\n",
              "    .dataframe tbody tr th {\n",
              "        vertical-align: top;\n",
              "    }\n",
              "\n",
              "    .dataframe thead th {\n",
              "        text-align: right;\n",
              "    }\n",
              "</style>\n",
              "<table border=\"1\" class=\"dataframe\">\n",
              "  <thead>\n",
              "    <tr style=\"text-align: right;\">\n",
              "      <th></th>\n",
              "      <th>Open</th>\n",
              "      <th>High</th>\n",
              "      <th>Low</th>\n",
              "      <th>Close</th>\n",
              "      <th>Adj Close</th>\n",
              "      <th>Volume</th>\n",
              "    </tr>\n",
              "    <tr>\n",
              "      <th>Date</th>\n",
              "      <th></th>\n",
              "      <th></th>\n",
              "      <th></th>\n",
              "      <th></th>\n",
              "      <th></th>\n",
              "      <th></th>\n",
              "    </tr>\n",
              "  </thead>\n",
              "  <tbody>\n",
              "  </tbody>\n",
              "</table>\n",
              "</div>\n",
              "      <button class=\"colab-df-convert\" onclick=\"convertToInteractive('df-f4562ab5-d3e5-49f1-a985-ba4c649d8c99')\"\n",
              "              title=\"Convert this dataframe to an interactive table.\"\n",
              "              style=\"display:none;\">\n",
              "        \n",
              "  <svg xmlns=\"http://www.w3.org/2000/svg\" height=\"24px\"viewBox=\"0 0 24 24\"\n",
              "       width=\"24px\">\n",
              "    <path d=\"M0 0h24v24H0V0z\" fill=\"none\"/>\n",
              "    <path d=\"M18.56 5.44l.94 2.06.94-2.06 2.06-.94-2.06-.94-.94-2.06-.94 2.06-2.06.94zm-11 1L8.5 8.5l.94-2.06 2.06-.94-2.06-.94L8.5 2.5l-.94 2.06-2.06.94zm10 10l.94 2.06.94-2.06 2.06-.94-2.06-.94-.94-2.06-.94 2.06-2.06.94z\"/><path d=\"M17.41 7.96l-1.37-1.37c-.4-.4-.92-.59-1.43-.59-.52 0-1.04.2-1.43.59L10.3 9.45l-7.72 7.72c-.78.78-.78 2.05 0 2.83L4 21.41c.39.39.9.59 1.41.59.51 0 1.02-.2 1.41-.59l7.78-7.78 2.81-2.81c.8-.78.8-2.07 0-2.86zM5.41 20L4 18.59l7.72-7.72 1.47 1.35L5.41 20z\"/>\n",
              "  </svg>\n",
              "      </button>\n",
              "      \n",
              "  <style>\n",
              "    .colab-df-container {\n",
              "      display:flex;\n",
              "      flex-wrap:wrap;\n",
              "      gap: 12px;\n",
              "    }\n",
              "\n",
              "    .colab-df-convert {\n",
              "      background-color: #E8F0FE;\n",
              "      border: none;\n",
              "      border-radius: 50%;\n",
              "      cursor: pointer;\n",
              "      display: none;\n",
              "      fill: #1967D2;\n",
              "      height: 32px;\n",
              "      padding: 0 0 0 0;\n",
              "      width: 32px;\n",
              "    }\n",
              "\n",
              "    .colab-df-convert:hover {\n",
              "      background-color: #E2EBFA;\n",
              "      box-shadow: 0px 1px 2px rgba(60, 64, 67, 0.3), 0px 1px 3px 1px rgba(60, 64, 67, 0.15);\n",
              "      fill: #174EA6;\n",
              "    }\n",
              "\n",
              "    [theme=dark] .colab-df-convert {\n",
              "      background-color: #3B4455;\n",
              "      fill: #D2E3FC;\n",
              "    }\n",
              "\n",
              "    [theme=dark] .colab-df-convert:hover {\n",
              "      background-color: #434B5C;\n",
              "      box-shadow: 0px 1px 3px 1px rgba(0, 0, 0, 0.15);\n",
              "      filter: drop-shadow(0px 1px 2px rgba(0, 0, 0, 0.3));\n",
              "      fill: #FFFFFF;\n",
              "    }\n",
              "  </style>\n",
              "\n",
              "      <script>\n",
              "        const buttonEl =\n",
              "          document.querySelector('#df-f4562ab5-d3e5-49f1-a985-ba4c649d8c99 button.colab-df-convert');\n",
              "        buttonEl.style.display =\n",
              "          google.colab.kernel.accessAllowed ? 'block' : 'none';\n",
              "\n",
              "        async function convertToInteractive(key) {\n",
              "          const element = document.querySelector('#df-f4562ab5-d3e5-49f1-a985-ba4c649d8c99');\n",
              "          const dataTable =\n",
              "            await google.colab.kernel.invokeFunction('convertToInteractive',\n",
              "                                                     [key], {});\n",
              "          if (!dataTable) return;\n",
              "\n",
              "          const docLinkHtml = 'Like what you see? Visit the ' +\n",
              "            '<a target=\"_blank\" href=https://colab.research.google.com/notebooks/data_table.ipynb>data table notebook</a>'\n",
              "            + ' to learn more about interactive tables.';\n",
              "          element.innerHTML = '';\n",
              "          dataTable['output_type'] = 'display_data';\n",
              "          await google.colab.output.renderOutput(dataTable, element);\n",
              "          const docLink = document.createElement('div');\n",
              "          docLink.innerHTML = docLinkHtml;\n",
              "          element.appendChild(docLink);\n",
              "        }\n",
              "      </script>\n",
              "    </div>\n",
              "  </div>\n",
              "  "
            ]
          },
          "metadata": {},
          "execution_count": 18
        }
      ]
    },
    {
      "cell_type": "markdown",
      "source": [
        "Github repo zum 3 stock case blogpost\n",
        "https://github.com/kvsnoufal/portfolio-optimization"
      ],
      "metadata": {
        "id": "UZh10BaDDFNb"
      }
    },
    {
      "cell_type": "markdown",
      "source": [
        "Deep RL Tutorial for Portfolio Allocation\n",
        "\n",
        "https://towardsdatascience.com/finrl-for-quantitative-finance-tutorial-for-portfolio-allocation-9b417660c7cd"
      ],
      "metadata": {
        "id": "1ZqwFFBQ2rZY"
      }
    },
    {
      "cell_type": "markdown",
      "source": [
        "FINRL library source: https://github.com/AI4Finance-Foundation/FinRL"
      ],
      "metadata": {
        "id": "o6-7mf6OXpo3"
      }
    },
    {
      "cell_type": "code",
      "source": [
        "etf_hist_df = pd.read_csv(\"etf_history.csv\").set_index(\"Date\")\n",
        "\n",
        "## normalise etf_hist_df with respect to its initial values. That way, value changes are being represented as a percentage\n",
        "#etf_hist_df.iloc[:, :] = etf_hist_df.iloc[:, :] / etf_hist_df.iloc[0, :]\n",
        "\n",
        "etf_hist_df"
      ],
      "metadata": {
        "colab": {
          "base_uri": "https://localhost:8080/",
          "height": 455
        },
        "id": "LauJ9tDxDwAq",
        "outputId": "6ed1e4c0-51ad-412f-cc05-af405a9a67fc"
      },
      "execution_count": null,
      "outputs": [
        {
          "output_type": "execute_result",
          "data": {
            "text/plain": [
              "                CSHD.L    VFEM.DE    VGEJ.DE    VGEU.DE    VJPN.DE    VNRT.DE\n",
              "Date                                                                         \n",
              "2018-01-02  126.599998  52.139999  23.094999  30.660000  26.629999  55.389999\n",
              "2018-01-03  127.349998  52.889999  23.309999  30.850000  27.059999  55.860001\n",
              "2018-01-04  127.849998  53.139999  23.309999  31.115000  27.315001  55.950001\n",
              "2018-01-05  127.459999  53.590000  23.480000  31.385000  27.410000  56.380001\n",
              "2018-01-08  126.879997  53.900002  23.480000  31.500000  27.764999  56.799999\n",
              "...                ...        ...        ...        ...        ...        ...\n",
              "2022-12-23  109.415001  49.805000  23.125000  33.025002  27.264999  87.610001\n",
              "2022-12-27  109.415001  50.240002  23.205000  33.064999  27.115000  87.519997\n",
              "2022-12-28  109.474998  49.980000  23.055000  32.939999  27.014999  87.040001\n",
              "2022-12-29  109.974998  50.520000  23.059999  33.180000  27.235001  87.699997\n",
              "2022-12-30  110.144997  49.965000  22.990000  32.900002  27.059999  87.089996\n",
              "\n",
              "[1285 rows x 6 columns]"
            ],
            "text/html": [
              "\n",
              "  <div id=\"df-b79c6e0f-77ae-40d8-8d6a-3da8735bedd2\">\n",
              "    <div class=\"colab-df-container\">\n",
              "      <div>\n",
              "<style scoped>\n",
              "    .dataframe tbody tr th:only-of-type {\n",
              "        vertical-align: middle;\n",
              "    }\n",
              "\n",
              "    .dataframe tbody tr th {\n",
              "        vertical-align: top;\n",
              "    }\n",
              "\n",
              "    .dataframe thead th {\n",
              "        text-align: right;\n",
              "    }\n",
              "</style>\n",
              "<table border=\"1\" class=\"dataframe\">\n",
              "  <thead>\n",
              "    <tr style=\"text-align: right;\">\n",
              "      <th></th>\n",
              "      <th>CSHD.L</th>\n",
              "      <th>VFEM.DE</th>\n",
              "      <th>VGEJ.DE</th>\n",
              "      <th>VGEU.DE</th>\n",
              "      <th>VJPN.DE</th>\n",
              "      <th>VNRT.DE</th>\n",
              "    </tr>\n",
              "    <tr>\n",
              "      <th>Date</th>\n",
              "      <th></th>\n",
              "      <th></th>\n",
              "      <th></th>\n",
              "      <th></th>\n",
              "      <th></th>\n",
              "      <th></th>\n",
              "    </tr>\n",
              "  </thead>\n",
              "  <tbody>\n",
              "    <tr>\n",
              "      <th>2018-01-02</th>\n",
              "      <td>126.599998</td>\n",
              "      <td>52.139999</td>\n",
              "      <td>23.094999</td>\n",
              "      <td>30.660000</td>\n",
              "      <td>26.629999</td>\n",
              "      <td>55.389999</td>\n",
              "    </tr>\n",
              "    <tr>\n",
              "      <th>2018-01-03</th>\n",
              "      <td>127.349998</td>\n",
              "      <td>52.889999</td>\n",
              "      <td>23.309999</td>\n",
              "      <td>30.850000</td>\n",
              "      <td>27.059999</td>\n",
              "      <td>55.860001</td>\n",
              "    </tr>\n",
              "    <tr>\n",
              "      <th>2018-01-04</th>\n",
              "      <td>127.849998</td>\n",
              "      <td>53.139999</td>\n",
              "      <td>23.309999</td>\n",
              "      <td>31.115000</td>\n",
              "      <td>27.315001</td>\n",
              "      <td>55.950001</td>\n",
              "    </tr>\n",
              "    <tr>\n",
              "      <th>2018-01-05</th>\n",
              "      <td>127.459999</td>\n",
              "      <td>53.590000</td>\n",
              "      <td>23.480000</td>\n",
              "      <td>31.385000</td>\n",
              "      <td>27.410000</td>\n",
              "      <td>56.380001</td>\n",
              "    </tr>\n",
              "    <tr>\n",
              "      <th>2018-01-08</th>\n",
              "      <td>126.879997</td>\n",
              "      <td>53.900002</td>\n",
              "      <td>23.480000</td>\n",
              "      <td>31.500000</td>\n",
              "      <td>27.764999</td>\n",
              "      <td>56.799999</td>\n",
              "    </tr>\n",
              "    <tr>\n",
              "      <th>...</th>\n",
              "      <td>...</td>\n",
              "      <td>...</td>\n",
              "      <td>...</td>\n",
              "      <td>...</td>\n",
              "      <td>...</td>\n",
              "      <td>...</td>\n",
              "    </tr>\n",
              "    <tr>\n",
              "      <th>2022-12-23</th>\n",
              "      <td>109.415001</td>\n",
              "      <td>49.805000</td>\n",
              "      <td>23.125000</td>\n",
              "      <td>33.025002</td>\n",
              "      <td>27.264999</td>\n",
              "      <td>87.610001</td>\n",
              "    </tr>\n",
              "    <tr>\n",
              "      <th>2022-12-27</th>\n",
              "      <td>109.415001</td>\n",
              "      <td>50.240002</td>\n",
              "      <td>23.205000</td>\n",
              "      <td>33.064999</td>\n",
              "      <td>27.115000</td>\n",
              "      <td>87.519997</td>\n",
              "    </tr>\n",
              "    <tr>\n",
              "      <th>2022-12-28</th>\n",
              "      <td>109.474998</td>\n",
              "      <td>49.980000</td>\n",
              "      <td>23.055000</td>\n",
              "      <td>32.939999</td>\n",
              "      <td>27.014999</td>\n",
              "      <td>87.040001</td>\n",
              "    </tr>\n",
              "    <tr>\n",
              "      <th>2022-12-29</th>\n",
              "      <td>109.974998</td>\n",
              "      <td>50.520000</td>\n",
              "      <td>23.059999</td>\n",
              "      <td>33.180000</td>\n",
              "      <td>27.235001</td>\n",
              "      <td>87.699997</td>\n",
              "    </tr>\n",
              "    <tr>\n",
              "      <th>2022-12-30</th>\n",
              "      <td>110.144997</td>\n",
              "      <td>49.965000</td>\n",
              "      <td>22.990000</td>\n",
              "      <td>32.900002</td>\n",
              "      <td>27.059999</td>\n",
              "      <td>87.089996</td>\n",
              "    </tr>\n",
              "  </tbody>\n",
              "</table>\n",
              "<p>1285 rows × 6 columns</p>\n",
              "</div>\n",
              "      <button class=\"colab-df-convert\" onclick=\"convertToInteractive('df-b79c6e0f-77ae-40d8-8d6a-3da8735bedd2')\"\n",
              "              title=\"Convert this dataframe to an interactive table.\"\n",
              "              style=\"display:none;\">\n",
              "        \n",
              "  <svg xmlns=\"http://www.w3.org/2000/svg\" height=\"24px\"viewBox=\"0 0 24 24\"\n",
              "       width=\"24px\">\n",
              "    <path d=\"M0 0h24v24H0V0z\" fill=\"none\"/>\n",
              "    <path d=\"M18.56 5.44l.94 2.06.94-2.06 2.06-.94-2.06-.94-.94-2.06-.94 2.06-2.06.94zm-11 1L8.5 8.5l.94-2.06 2.06-.94-2.06-.94L8.5 2.5l-.94 2.06-2.06.94zm10 10l.94 2.06.94-2.06 2.06-.94-2.06-.94-.94-2.06-.94 2.06-2.06.94z\"/><path d=\"M17.41 7.96l-1.37-1.37c-.4-.4-.92-.59-1.43-.59-.52 0-1.04.2-1.43.59L10.3 9.45l-7.72 7.72c-.78.78-.78 2.05 0 2.83L4 21.41c.39.39.9.59 1.41.59.51 0 1.02-.2 1.41-.59l7.78-7.78 2.81-2.81c.8-.78.8-2.07 0-2.86zM5.41 20L4 18.59l7.72-7.72 1.47 1.35L5.41 20z\"/>\n",
              "  </svg>\n",
              "      </button>\n",
              "      \n",
              "  <style>\n",
              "    .colab-df-container {\n",
              "      display:flex;\n",
              "      flex-wrap:wrap;\n",
              "      gap: 12px;\n",
              "    }\n",
              "\n",
              "    .colab-df-convert {\n",
              "      background-color: #E8F0FE;\n",
              "      border: none;\n",
              "      border-radius: 50%;\n",
              "      cursor: pointer;\n",
              "      display: none;\n",
              "      fill: #1967D2;\n",
              "      height: 32px;\n",
              "      padding: 0 0 0 0;\n",
              "      width: 32px;\n",
              "    }\n",
              "\n",
              "    .colab-df-convert:hover {\n",
              "      background-color: #E2EBFA;\n",
              "      box-shadow: 0px 1px 2px rgba(60, 64, 67, 0.3), 0px 1px 3px 1px rgba(60, 64, 67, 0.15);\n",
              "      fill: #174EA6;\n",
              "    }\n",
              "\n",
              "    [theme=dark] .colab-df-convert {\n",
              "      background-color: #3B4455;\n",
              "      fill: #D2E3FC;\n",
              "    }\n",
              "\n",
              "    [theme=dark] .colab-df-convert:hover {\n",
              "      background-color: #434B5C;\n",
              "      box-shadow: 0px 1px 3px 1px rgba(0, 0, 0, 0.15);\n",
              "      filter: drop-shadow(0px 1px 2px rgba(0, 0, 0, 0.3));\n",
              "      fill: #FFFFFF;\n",
              "    }\n",
              "  </style>\n",
              "\n",
              "      <script>\n",
              "        const buttonEl =\n",
              "          document.querySelector('#df-b79c6e0f-77ae-40d8-8d6a-3da8735bedd2 button.colab-df-convert');\n",
              "        buttonEl.style.display =\n",
              "          google.colab.kernel.accessAllowed ? 'block' : 'none';\n",
              "\n",
              "        async function convertToInteractive(key) {\n",
              "          const element = document.querySelector('#df-b79c6e0f-77ae-40d8-8d6a-3da8735bedd2');\n",
              "          const dataTable =\n",
              "            await google.colab.kernel.invokeFunction('convertToInteractive',\n",
              "                                                     [key], {});\n",
              "          if (!dataTable) return;\n",
              "\n",
              "          const docLinkHtml = 'Like what you see? Visit the ' +\n",
              "            '<a target=\"_blank\" href=https://colab.research.google.com/notebooks/data_table.ipynb>data table notebook</a>'\n",
              "            + ' to learn more about interactive tables.';\n",
              "          element.innerHTML = '';\n",
              "          dataTable['output_type'] = 'display_data';\n",
              "          await google.colab.output.renderOutput(dataTable, element);\n",
              "          const docLink = document.createElement('div');\n",
              "          docLink.innerHTML = docLinkHtml;\n",
              "          element.appendChild(docLink);\n",
              "        }\n",
              "      </script>\n",
              "    </div>\n",
              "  </div>\n",
              "  "
            ]
          },
          "metadata": {},
          "execution_count": 11
        }
      ]
    },
    {
      "cell_type": "code",
      "source": [
        "# defining environment parameters\n",
        "stock_dimension = etf_hist_df.shape[1] # no of columns\n",
        "\n",
        "stock_dimension"
      ],
      "metadata": {
        "colab": {
          "base_uri": "https://localhost:8080/"
        },
        "id": "otxSWguuEYUm",
        "outputId": "ec5cc902-f8ab-41a5-9ad6-e92a1ab6ed21"
      },
      "execution_count": null,
      "outputs": [
        {
          "output_type": "execute_result",
          "data": {
            "text/plain": [
              "6"
            ]
          },
          "metadata": {},
          "execution_count": 20
        }
      ]
    },
    {
      "cell_type": "markdown",
      "source": [
        "## Building the environment"
      ],
      "metadata": {
        "id": "oe6wdJMXCk__"
      }
    },
    {
      "cell_type": "markdown",
      "source": [
        "asset allocation env source: https://github.com/acbraith/gym-asset_allocation/blob/master/gym_asset_allocation/envs/asset_allocation_env.py"
      ],
      "metadata": {
        "id": "DYOe6xkqrnT9"
      }
    },
    {
      "cell_type": "markdown",
      "source": [
        "Custom environment to use"
      ],
      "metadata": {
        "id": "XrQ1TwLUgynq"
      }
    },
    {
      "cell_type": "code",
      "source": [
        "import gym\n",
        "from gym import spaces\n",
        "from gym.utils import seeding\n",
        "\n",
        "class Environment(gym.Env):\n",
        "  def __init__(self, etf_hist_df, episode_length, observation_length):\n",
        "    \n",
        "    self.etf_hist_df = etf_hist_df\n",
        "    self.episode_length = episode_length # number of days for training\n",
        "    self.observation_length = observation_length # number of days being currently observed for next decision \n",
        "\n",
        "    self.n = etf_hist_df.shape[1] # number of assets\n",
        "    #self.total_days_in_dataset = etf_hist_df.shape[0] # total number of days in dataset\n",
        "\n",
        "    self.observation_space = spaces.Box(0, np.inf, shape=(self.n, self.observation_length)) # observation tensor: n assets being observed for xx days\n",
        "    self.action_space = spaces.Box(0, 1, shape=(self.n,))\n",
        "    \n",
        "    self._seed()\n",
        "    self._reset()\n",
        "\n",
        "  def _seed(self, seed=None):\n",
        "        self.np_random, seed = seeding.np_random(seed)\n",
        "        return [seed]\n",
        "\n",
        "  def _rng(self, low, high):\n",
        "    return np.random.randint(low=low, high=high)       \n",
        "\n",
        "## 1 interaction step of the agent with the environment\n",
        "  def _step(self, action):\n",
        "       #assert self.action_space.contains(action), \"%r (%s) invalid\" % (action, type(action))\n",
        "\n",
        "        if not self._get_over():\n",
        "            self._take_action(action) # t is the day the asset allocation is chosen. t+1 is the day when the portfolio value has changed\n",
        "            self.t += 1 # proceed to next day (time step)\n",
        "        \n",
        "        observation = self._get_observation()\n",
        "        # update portfolio value\n",
        "        reward = self._get_reward() \n",
        "        episode_over = self._get_over()\n",
        "        info = {}\n",
        "\n",
        "        \n",
        "        return observation, reward, episode_over, info\n",
        "\n",
        "## asset allocation: 6x1 array for weigths in time t\n",
        "## portfolio value: PF value at time t       \n",
        "\n",
        "  def _reset(self, episode_start=0, episode_end=30): ## reset environment (new initialization of the arrays)\n",
        "    self.asset_allocation = np.zeros((self.episode_length, self.n)) # one row for each day. one column for each asset\n",
        "    self.asset_allocation[:, 0] = 1 # initialise 100% of the money as cash (money market etf)\n",
        "    \n",
        "    self.episode_start = episode_start\n",
        "    self.episode_end = episode_end\n",
        "    self.t = 0 # current day within the episode. We start at day 0\n",
        "\n",
        "    self.prices_df = etf_hist_df.iloc[episode_start:episode_end, :]\n",
        "\n",
        "    self.portfolio_value = np.zeros((self.episode_length))\n",
        "    #self.portfolio_value[0] = np.dot(self.asset_allocation[0], etf_hist_df.iloc[0,:])\n",
        "    self.portfolio_value[0] = 1\n",
        "    pass\n",
        "  \n",
        "  ## done flag\n",
        "  def _get_over(self):\n",
        "    return self.t+1 >= self.episode_length # false if another day for investment is still in episode\n",
        "\n",
        "## normalize weight vector to length 1; \n",
        "  def _take_action(self, action):\n",
        "    if action.sum() > 1:\n",
        "      action /= action.sum() # normalise action ## /= action <- action/action.sum()\n",
        "    \n",
        "    # save asset allocation in array\n",
        "    self.asset_allocation[self.t] = action\n",
        "\n",
        "    # calculate profit over night\n",
        "    # dot product of asset allocation with relative value change in asset\n",
        "    self.portfolio_value[self.t+1] = self.portfolio_value[self.t] + np.dot(self.asset_allocation[self.t, :], (self.prices_df.iloc[self.t+1, :]\n",
        "                                                                         - self.prices_df.iloc[self.t, :]) / self.prices_df.iloc[self.t, :])\n",
        "\n",
        "    pass\n",
        "\n",
        "## get current ETF share prices\n",
        "  def _get_observation(self):\n",
        "    return np.array([self.etf_hist_df.iloc[self.episode_start + self.t - self.observation_length : self.episode_start + self.t, :]]) \n",
        "\n",
        "## change in PF value\n",
        "  def _get_reward(self):\n",
        "    return (self.portfolio_value[self.t] - self.portfolio_value[self.t-1]) / self.portfolio_value[self.t-1]    \n",
        "\n"
      ],
      "metadata": {
        "id": "LTgLy5VqrjdG"
      },
      "execution_count": null,
      "outputs": []
    },
    {
      "cell_type": "code",
      "source": [
        "number_of_episodes = 5\n",
        "episode_length = 5\n",
        "observation_length = 30\n",
        "pf_env = Environment(etf_hist_df, episode_length, observation_length)\n",
        "\n"
      ],
      "metadata": {
        "id": "VCQubrFL-NDX"
      },
      "execution_count": null,
      "outputs": []
    },
    {
      "cell_type": "markdown",
      "source": [
        "important code block"
      ],
      "metadata": {
        "id": "G0VsLW97jOdR"
      }
    },
    {
      "cell_type": "code",
      "source": [
        "## environment input parameters\n",
        "number_of_episodes = 5\n",
        "episode_length = 1285 # total number of days: 1285\n",
        "observation_length = 30\n",
        "\n",
        "## instantiation of the Environment class\n",
        "pf_env = Environment(etf_hist_df, episode_length, observation_length)\n",
        "\n",
        "env = pf_env\n",
        "\n",
        "#observation : list = []\n",
        "#reward : float = 0\n",
        "#episode_over : bool = False\n",
        "#info : dict = {}\n",
        "\n",
        "\n",
        "def run_episode():\n",
        "  #episode_start = env._rng(low = observation_length, high = etf_hist_df.shape[0] - episode_length) # determine start day within dataset\n",
        "  episode_start = 0\n",
        "  episode_end = episode_start + episode_length # determine end day with episode length\n",
        "  env._reset(episode_start, episode_end)\n",
        "  cumulative_reward = 0\n",
        "  print(\"start at day: \" + str(episode_start))\n",
        "  for _ in range(episode_length):\n",
        "    \n",
        "    #action = np.ones(shape = 6)\n",
        "    action = np.array([1/6, 1/6, 1/6, 1/6, 1/6, 1/6]).astype(float) ## asset allocation weights / to test different weights\n",
        "    observation, reward, episode_over, info = env._step(action)\n",
        "    cumulative_reward += reward\n",
        "    ##print(reward) ## debugging\n",
        "    #print(action)\n",
        "  print(\"cum. reward after step \" + str(env.t) + \": \" + str(cumulative_reward))\n",
        "  print(\"final portfolio value: \" + str(env.portfolio_value[env.t])) ## this is only a multiplier \n",
        "\n",
        "\n",
        "\n",
        "run_episode()\n",
        "\n"
      ],
      "metadata": {
        "colab": {
          "base_uri": "https://localhost:8080/"
        },
        "id": "VBUaFXUhpuad",
        "outputId": "af6c5fca-a403-440b-b1bd-4ba859a78c87"
      },
      "execution_count": null,
      "outputs": [
        {
          "output_type": "stream",
          "name": "stdout",
          "text": [
            "start at day: 0\n",
            "cum. reward after step 1284: 0.17293744305697265\n",
            "final portfolio value: 1.1359748306366118\n"
          ]
        }
      ]
    },
    {
      "cell_type": "markdown",
      "source": [
        "FinRL API: https://finrl.readthedocs.io/en/latest/tutorial/Introduction/PortfolioAllocation.html"
      ],
      "metadata": {
        "id": "EGl48MEncBVh"
      }
    },
    {
      "cell_type": "markdown",
      "source": [
        "Multiple stock trading environment: https://finrl.readthedocs.io/en/latest/tutorial/Introduction/MultipleStockTrading.html"
      ],
      "metadata": {
        "id": "pCm8Q-s-dJ83"
      }
    },
    {
      "cell_type": "code",
      "source": [
        "##!pip install git+https://github.com/AI4Finance-Foundation/FinRL.git\n",
        "##!pip install git+https://github.com/AI4Finance-LLC/FinRL-Library.git"
      ],
      "metadata": {
        "id": "F_Y0avutV98d"
      },
      "execution_count": null,
      "outputs": []
    },
    {
      "cell_type": "code",
      "source": [],
      "metadata": {
        "id": "0pmFEeWRfuh6"
      },
      "execution_count": null,
      "outputs": []
    },
    {
      "cell_type": "code",
      "source": [],
      "metadata": {
        "id": "89yvI89rfumW"
      },
      "execution_count": null,
      "outputs": []
    },
    {
      "cell_type": "markdown",
      "source": [
        "latest FinRL tutorial: https://medium.com/analytics-vidhya/a-hitchhikers-guide-to-finrl-a-deep-reinforcement-learning-framework-for-quantitative-finance-e624c508f763"
      ],
      "metadata": {
        "id": "SpGpGoPOtU05"
      }
    },
    {
      "cell_type": "markdown",
      "source": [
        "## RL theory part about actor critic algorithms\n",
        "\n",
        "Approximated policy gradient including the learned actor function and the learned critic function: (policy weight update)\n",
        "$ \\Delta_{\\theta} = \\alpha \\nabla_{\\theta} log \\underbrace{\\pi(s,a;\\theta)}_{\\text{policy function of the actor}} * \\underbrace{Q(s,a;w)}_{\\text{Q-function of the critic}} $"
      ],
      "metadata": {
        "id": "fIInAI967TTp"
      }
    },
    {
      "cell_type": "markdown",
      "source": [
        "pseudo code of QAC (rough summary):\n",
        "\n",
        "\n",
        "*   Initialize policy and Q-function weights $\\theta$, w  \n",
        "Repeat for each episode:  \n",
        "*   sample action from policy $\\pi$\n",
        "*   take action a, observe r, s'\n",
        "*   sample a' acc. to policy $\\pi$(s',$\\cdot$,$\\theta$)\n",
        "*   policy weight update theta \n",
        "*   Q-function weight update w \n",
        "*   a $\\leftarrow$ a', s $\\leftarrow$ s'  \n",
        "until s is terminal\n",
        "\n"
      ],
      "metadata": {
        "id": "c1K2ssnv8qje"
      }
    },
    {
      "cell_type": "markdown",
      "source": [
        "## Implement DRL algorithm"
      ],
      "metadata": {
        "id": "4x9tbAytCuIE"
      }
    },
    {
      "cell_type": "markdown",
      "source": [
        "https://theaisummer.com/Actor_critics/"
      ],
      "metadata": {
        "id": "o3kxET9dog_J"
      }
    },
    {
      "cell_type": "markdown",
      "source": [
        "**Background (actor critic policy-based algorithms):**\n",
        "\n",
        "**actor:** The actor takes as input the state and outputs the best action. It essentially controls how the agent behaves by learning the optimal policy\n",
        "\n",
        "**critic:** The critic, on the other hand, evaluates the action by computing the value function (value based).   \n",
        "The critic which receives as an input the environment and the action by the actor, concatenates them and outputs the action value (Q-value) for the given pair (Q-value = maximum future reward)\n",
        "\n",
        "**training:** the actor NN and the critic NN are trained separately by gradient ascent (Compute steepest uphill direction = gradient;\n",
        "Take step in the gradient direction\n",
        "Repeat (until held-out data accuracy starts to drop = “early stopping”))\n",
        "\n",
        "find a global maximum and update both the policy weights theta and the value function estimate weights w\n",
        "\n",
        "It is important to notice that *the update of the weights happen at each step (TD Learning)* and not at the end of the episode, opposed to policy gradient"
      ],
      "metadata": {
        "id": "V-en_4YoiqWt"
      }
    },
    {
      "cell_type": "markdown",
      "source": [
        "**Portfolio Mgt application case:** \n",
        "\n",
        "input for the actor: state = portfolio value;\n",
        "ouput of the actor: best action = optimal asset allocation weights\n",
        "\n",
        "input for the critic: portfolio weights from the actor + environment i.e. the prices of the 6 assets in the portfolio at the current time step\n",
        "output of the critic: Q-value (s,a) for time t\n"
      ],
      "metadata": {
        "id": "8BDhP0uZjRZJ"
      }
    },
    {
      "cell_type": "markdown",
      "source": [
        "**Advantage Actor critic:**   \n",
        "the advantage function A(s,a) = Q(s,a) - V(s) <-> Q(s,a) = A(s,a)+V(s) captures how much better an action is compared to other actions in a given state s\n",
        "\n",
        "the value function V(s) captures how good it is to be in particular state (\"state value function\")\n",
        "\n",
        "**modification:** the critic learns advantage-values instead of Q-values. That way the evaluation of an action is based not only on how good the action is, but also how much better it can be."
      ],
      "metadata": {
        "id": "bG17sU5KlgIk"
      }
    },
    {
      "cell_type": "code",
      "source": [],
      "metadata": {
        "id": "B265c5jJC1yg"
      },
      "execution_count": null,
      "outputs": []
    },
    {
      "cell_type": "markdown",
      "source": [
        "## Actor Critic in Pytorch"
      ],
      "metadata": {
        "id": "sEokPhublTGB"
      }
    },
    {
      "cell_type": "code",
      "source": [
        "number_of_episodes = 5\n",
        "episode_length = 30 # total number of days: 1285\n",
        "observation_length = 3\n",
        "episode_start = 50\n",
        "\n"
      ],
      "metadata": {
        "colab": {
          "base_uri": "https://localhost:8080/",
          "height": 201
        },
        "id": "4SE7--wunnem",
        "outputId": "5a97ea9d-05a1-4f0a-e99b-22f3b7a4dba9"
      },
      "execution_count": null,
      "outputs": [
        {
          "output_type": "error",
          "ename": "NameError",
          "evalue": "ignored",
          "traceback": [
            "\u001b[0;31m---------------------------------------------------------------------------\u001b[0m",
            "\u001b[0;31mNameError\u001b[0m                                 Traceback (most recent call last)",
            "\u001b[0;32m<ipython-input-68-cc8df7ba9832>\u001b[0m in \u001b[0;36m<module>\u001b[0;34m\u001b[0m\n\u001b[1;32m      4\u001b[0m \u001b[0mepisode_start\u001b[0m \u001b[0;34m=\u001b[0m \u001b[0;36m50\u001b[0m\u001b[0;34m\u001b[0m\u001b[0;34m\u001b[0m\u001b[0m\n\u001b[1;32m      5\u001b[0m \u001b[0;34m\u001b[0m\u001b[0m\n\u001b[0;32m----> 6\u001b[0;31m \u001b[0mdist\u001b[0m\u001b[0;34m.\u001b[0m\u001b[0msample\u001b[0m\u001b[0;34m(\u001b[0m\u001b[0;34m)\u001b[0m\u001b[0;34m\u001b[0m\u001b[0;34m\u001b[0m\u001b[0m\n\u001b[0m",
            "\u001b[0;31mNameError\u001b[0m: name 'dist' is not defined"
          ]
        }
      ]
    },
    {
      "cell_type": "code",
      "source": [
        "pf_env.observation_space.shape[1]"
      ],
      "metadata": {
        "colab": {
          "base_uri": "https://localhost:8080/"
        },
        "id": "YYD0_kcTw6Ku",
        "outputId": "473ceba1-75bf-4430-9dc4-b3e7c95d855c"
      },
      "execution_count": null,
      "outputs": [
        {
          "output_type": "execute_result",
          "data": {
            "text/plain": [
              "30"
            ]
          },
          "metadata": {},
          "execution_count": 104
        }
      ]
    },
    {
      "cell_type": "code",
      "source": [
        "pf_env.action_space ## passing a tuple leads to an error"
      ],
      "metadata": {
        "colab": {
          "base_uri": "https://localhost:8080/"
        },
        "id": "HW34p8KFtMNV",
        "outputId": "cff91e72-0bce-4295-aba6-81424fb087e6"
      },
      "execution_count": null,
      "outputs": [
        {
          "output_type": "execute_result",
          "data": {
            "text/plain": [
              "Box(0.0, 1.0, (6,), float32)"
            ]
          },
          "metadata": {},
          "execution_count": 81
        }
      ]
    },
    {
      "cell_type": "code",
      "source": [
        "print(pf_env.reset()) ## issue"
      ],
      "metadata": {
        "colab": {
          "base_uri": "https://localhost:8080/"
        },
        "id": "XIQ__IPXx319",
        "outputId": "94ce0581-2266-4323-eccd-235f2910dc36"
      },
      "execution_count": null,
      "outputs": [
        {
          "output_type": "stream",
          "name": "stdout",
          "text": [
            "None\n"
          ]
        }
      ]
    },
    {
      "cell_type": "markdown",
      "source": [
        "useful repos to base our model on:  \n",
        "https://github.com/philtabor/Youtube-Code-Repository/blob/master/ReinforcementLearning/PolicyGradient/SAC/sac_torch.py\n",
        "\n",
        "https://github.com/yc930401/Actor-Critic-pytorch/blob/master/Actor-Critic.py\n",
        "\n",
        "https://github.com/kvsnoufal/portfolio-optimization/blob/main/train.py\n",
        "\n",
        "A2C: https://github.com/mswang12/minA2C/blob/main/minA2C.py"
      ],
      "metadata": {
        "id": "OBMofNGoQI0g"
      }
    },
    {
      "cell_type": "code",
      "source": [
        "## Actor Critic RL model\n",
        "\n",
        "import gym, os\n",
        "from itertools import count\n",
        "import torch\n",
        "import torch.nn as nn\n",
        "import torch.optim as optim\n",
        "import torch.nn.functional as F\n",
        "from torch.distributions import Categorical\n",
        "\n",
        "\n",
        "device = torch.device(\"cuda\" if torch.cuda.is_available() else \"cpu\")\n",
        "\n",
        "## environment input parameters\n",
        "number_of_episodes = 5\n",
        "episode_length = 30 # total number of days: 1285\n",
        "observation_length = 2\n",
        "\n",
        "\n",
        "## inputs for the actor critic algorithm ##\n",
        "\n",
        "env = pf_env  ## PF environment\n",
        "##env = gym.make(\"CartPole-v0\").unwrapped\n",
        "##state_size = pf_env.observation_space.shape[1]\n",
        "action_size = etf_hist_df.shape[1] # 6\n",
        "state_size = observation_length * etf_hist_df.shape[1] ## 180 = 30*6\n",
        "\n",
        "print(action_size), print(state_size) ## debugging\n",
        "##rewards = pf_env.reward  ## to do: can't access _get_reward method from environment\n",
        "\n",
        "## hyperparameters ##\n",
        "\n",
        "n_iters = number_of_episodes ## no. of episodes\n",
        "lr = 0.0001 ## learning rate\n",
        "\n",
        "\n",
        "## actor learns the best action in a given state; input: state i.e. actor lears a policy (state-action mapping)\n",
        "## theta: parametrized policy weights\n",
        "class Actor(nn.Module): \n",
        "    def __init__(self, state_size, action_size):\n",
        "        super(Actor, self).__init__()\n",
        "        self.state_size = state_size\n",
        "        self.action_size = action_size\n",
        "        self.linear1 = nn.Linear(self.state_size, 256)\n",
        "        self.linear2 = nn.Linear(256, 128)\n",
        "        self.linear3 = nn.Linear(128, self.action_size)\n",
        "\n",
        "    def forward(self, state):\n",
        "        output = F.relu(self.linear1(state))\n",
        "        output = F.relu(self.linear2(output))\n",
        "        output = self.linear3(output)\n",
        "        distribution = Categorical(F.softmax(output, dim=-1))\n",
        "        return distribution\n",
        "\n",
        "## critic evaluates action by learning Q-value Q(s,a) or Advantage-value A(s,a) ; input: action (weights), environment (current prices)\n",
        "## value function estimate weights w\n",
        "class Critic(nn.Module): \n",
        "    def __init__(self, state_size, action_size):\n",
        "        super(Critic, self).__init__()\n",
        "        self.state_size = state_size\n",
        "        self.action_size = action_size\n",
        "        self.linear1 = nn.Linear(self.state_size, 128)\n",
        "        self.linear2 = nn.Linear(128, 256)\n",
        "        self.linear3 = nn.Linear(256, 1)\n",
        "\n",
        "    def forward(self, state):\n",
        "        output = F.relu(self.linear1(state))\n",
        "        output = F.relu(self.linear2(output))\n",
        "        value = self.linear3(output)\n",
        "        return value\n",
        "\n",
        "\n",
        "def compute_returns(next_value, rewards, masks, gamma=0.99): ## to do: use rewards defined in the PF environment\n",
        "    R = next_value\n",
        "    returns = []\n",
        "    for step in reversed(range(len(rewards))):\n",
        "        R = rewards[step] + gamma * R * masks[step] ## masks?\n",
        "        returns.insert(0, R)\n",
        "    return returns\n",
        "\n",
        "def prepare_state(state, input_shape):\n",
        "  # this needs a numpy array as input to work\n",
        "  state = torch.Tensor(state.astype(float))\n",
        "  state = state.reshape([1, input_shape])\n",
        "  return state\n",
        "\n",
        "\n",
        "\n",
        "## AGENT ##\n",
        "def trainIters(actor, critic, n_iters):\n",
        "    optimizerA = optim.Adam(actor.parameters(), lr=lr) # optimization algorithm (ADAM) for the actor NN\n",
        "    optimizerC = optim.Adam(critic.parameters(), lr=lr) # optimization algorithm (ADAM) for the critic NN\n",
        "    for iter in range(n_iters):\n",
        "        episode_start = env._rng(low = observation_length, high = etf_hist_df.shape[0] - episode_length) # determine start day within dataset\n",
        "        #episode_start = 0\n",
        "        episode_end = episode_start + episode_length # determine end day with episode length\n",
        "        env._reset(episode_start, episode_end)\n",
        "        \n",
        "        #state = env._reset() ## here the current PF value (=state) should be inserted\n",
        "        state = etf_hist_df.iloc[episode_start - observation_length : episode_start, :].to_numpy()\n",
        "        state = prepare_state(state, state_size)\n",
        "\n",
        "        log_probs = []\n",
        "        values = []\n",
        "        rewards = [] ## reward = change in PF value\n",
        "        masks = []\n",
        "        entropy = 0\n",
        "        #env.reset()\n",
        "\n",
        "## main loop\n",
        "        for i in range(episode_length):\n",
        "            ##env.render() ## not implemented\n",
        "            print(state) ## debugging\n",
        "            #state = torch.FloatTensor(state).to(device) ## state contains none object -> issue\n",
        "            dist, value = actor(state), critic(state)\n",
        "\n",
        "            action = dist.sample()\n",
        "            next_state, reward, done, _ = env._step(action.cpu().numpy().astype(float)) ## rewards?\n",
        "            next_state = prepare_state(next_state, state_size)\n",
        "\n",
        "            log_prob = dist.log_prob(action).unsqueeze(0)\n",
        "            entropy += dist.entropy().mean()\n",
        "\n",
        "            log_probs.append(log_prob)\n",
        "            values.append(value)\n",
        "            rewards.append(torch.tensor([reward], dtype=torch.float, device=device))\n",
        "            masks.append(torch.tensor([1-done], dtype=torch.float, device=device))\n",
        "\n",
        "            state = next_state\n",
        "\n",
        "            if done:\n",
        "                print('Iteration: {}, Score: {}'.format(iter, i))\n",
        "                break\n",
        "\n",
        "\n",
        "        next_state = torch.FloatTensor(next_state).to(device)\n",
        "        next_value = critic(next_state)\n",
        "        returns = compute_returns(next_value, rewards, masks)\n",
        "\n",
        "        log_probs = torch.cat(log_probs)\n",
        "        returns = torch.cat(returns).detach()\n",
        "        values = torch.cat(values)\n",
        "\n",
        "        advantage = returns - values ## advantage function definition\n",
        "\n",
        "        actor_loss = -(log_probs * advantage.detach()).mean()  ## actor loss to learn policy (policy gradient*Advantage estimate)\n",
        "        critic_loss = advantage.pow(2).mean() ## critic loss to learn Q-value/Advantayge value (Advantage estimate)\n",
        "\n",
        "        optimizerA.zero_grad()\n",
        "        optimizerC.zero_grad()\n",
        "        actor_loss.backward()\n",
        "        critic_loss.backward()\n",
        "        optimizerA.step()\n",
        "        optimizerC.step()\n",
        "    torch.save(actor, 'model/actor.pkl') ## saving the models to pickle\n",
        "    torch.save(critic, 'model/critic.pkl')\n",
        "    env.close()\n",
        "\n",
        "\n",
        "if __name__ == '__main__':\n",
        "    if os.path.exists('model/actor.pkl'):\n",
        "        actor = torch.load('model/actor.pkl')\n",
        "        print('Actor Model loaded')\n",
        "    else:\n",
        "        actor = Actor(state_size, action_size).to(device)\n",
        "    if os.path.exists('model/critic.pkl'):\n",
        "        critic = torch.load('model/critic.pkl')\n",
        "        print('Critic Model loaded')\n",
        "    else:\n",
        "        critic = Critic(state_size, action_size).to(device)\n",
        "    trainIters(actor, critic, n_iters=100)\n"
      ],
      "metadata": {
        "colab": {
          "base_uri": "https://localhost:8080/",
          "height": 416
        },
        "id": "81io1AD6nnhE",
        "outputId": "d1b258da-59cf-470c-d53b-ec464a1e3b45"
      },
      "execution_count": null,
      "outputs": [
        {
          "output_type": "stream",
          "name": "stdout",
          "text": [
            "6\n",
            "12\n",
            "tensor([[112.8650,  44.3150,  18.3640,  25.7700,  24.8200,  63.4300, 113.2450,\n",
            "          45.0350,  18.7520,  26.2650,  25.2250,  65.0400]])\n"
          ]
        },
        {
          "output_type": "error",
          "ename": "RuntimeError",
          "evalue": "ignored",
          "traceback": [
            "\u001b[0;31m---------------------------------------------------------------------------\u001b[0m",
            "\u001b[0;31mRuntimeError\u001b[0m                              Traceback (most recent call last)",
            "\u001b[0;32m<ipython-input-80-6c122ad3ebae>\u001b[0m in \u001b[0;36m<module>\u001b[0;34m\u001b[0m\n\u001b[1;32m    169\u001b[0m     \u001b[0;32melse\u001b[0m\u001b[0;34m:\u001b[0m\u001b[0;34m\u001b[0m\u001b[0;34m\u001b[0m\u001b[0m\n\u001b[1;32m    170\u001b[0m         \u001b[0mcritic\u001b[0m \u001b[0;34m=\u001b[0m \u001b[0mCritic\u001b[0m\u001b[0;34m(\u001b[0m\u001b[0mstate_size\u001b[0m\u001b[0;34m,\u001b[0m \u001b[0maction_size\u001b[0m\u001b[0;34m)\u001b[0m\u001b[0;34m.\u001b[0m\u001b[0mto\u001b[0m\u001b[0;34m(\u001b[0m\u001b[0mdevice\u001b[0m\u001b[0;34m)\u001b[0m\u001b[0;34m\u001b[0m\u001b[0;34m\u001b[0m\u001b[0m\n\u001b[0;32m--> 171\u001b[0;31m     \u001b[0mtrainIters\u001b[0m\u001b[0;34m(\u001b[0m\u001b[0mactor\u001b[0m\u001b[0;34m,\u001b[0m \u001b[0mcritic\u001b[0m\u001b[0;34m,\u001b[0m \u001b[0mn_iters\u001b[0m\u001b[0;34m=\u001b[0m\u001b[0;36m100\u001b[0m\u001b[0;34m)\u001b[0m\u001b[0;34m\u001b[0m\u001b[0;34m\u001b[0m\u001b[0m\n\u001b[0m",
            "\u001b[0;32m<ipython-input-80-6c122ad3ebae>\u001b[0m in \u001b[0;36mtrainIters\u001b[0;34m(actor, critic, n_iters)\u001b[0m\n\u001b[1;32m    117\u001b[0m             \u001b[0maction\u001b[0m \u001b[0;34m=\u001b[0m \u001b[0mdist\u001b[0m\u001b[0;34m.\u001b[0m\u001b[0msample\u001b[0m\u001b[0;34m(\u001b[0m\u001b[0;34m)\u001b[0m\u001b[0;34m\u001b[0m\u001b[0;34m\u001b[0m\u001b[0m\n\u001b[1;32m    118\u001b[0m             \u001b[0mnext_state\u001b[0m\u001b[0;34m,\u001b[0m \u001b[0mreward\u001b[0m\u001b[0;34m,\u001b[0m \u001b[0mdone\u001b[0m\u001b[0;34m,\u001b[0m \u001b[0m_\u001b[0m \u001b[0;34m=\u001b[0m \u001b[0menv\u001b[0m\u001b[0;34m.\u001b[0m\u001b[0m_step\u001b[0m\u001b[0;34m(\u001b[0m\u001b[0maction\u001b[0m\u001b[0;34m.\u001b[0m\u001b[0mcpu\u001b[0m\u001b[0;34m(\u001b[0m\u001b[0;34m)\u001b[0m\u001b[0;34m.\u001b[0m\u001b[0mnumpy\u001b[0m\u001b[0;34m(\u001b[0m\u001b[0;34m)\u001b[0m\u001b[0;34m.\u001b[0m\u001b[0mastype\u001b[0m\u001b[0;34m(\u001b[0m\u001b[0mfloat\u001b[0m\u001b[0;34m)\u001b[0m\u001b[0;34m)\u001b[0m \u001b[0;31m## rewards?\u001b[0m\u001b[0;34m\u001b[0m\u001b[0;34m\u001b[0m\u001b[0m\n\u001b[0;32m--> 119\u001b[0;31m             \u001b[0mnext_state\u001b[0m \u001b[0;34m=\u001b[0m \u001b[0mprepare_state\u001b[0m\u001b[0;34m(\u001b[0m\u001b[0mnext_state\u001b[0m\u001b[0;34m,\u001b[0m \u001b[0mstate_size\u001b[0m\u001b[0;34m)\u001b[0m\u001b[0;34m\u001b[0m\u001b[0;34m\u001b[0m\u001b[0m\n\u001b[0m\u001b[1;32m    120\u001b[0m \u001b[0;34m\u001b[0m\u001b[0m\n\u001b[1;32m    121\u001b[0m             \u001b[0mlog_prob\u001b[0m \u001b[0;34m=\u001b[0m \u001b[0mdist\u001b[0m\u001b[0;34m.\u001b[0m\u001b[0mlog_prob\u001b[0m\u001b[0;34m(\u001b[0m\u001b[0maction\u001b[0m\u001b[0;34m)\u001b[0m\u001b[0;34m.\u001b[0m\u001b[0munsqueeze\u001b[0m\u001b[0;34m(\u001b[0m\u001b[0;36m0\u001b[0m\u001b[0;34m)\u001b[0m\u001b[0;34m\u001b[0m\u001b[0;34m\u001b[0m\u001b[0m\n",
            "\u001b[0;32m<ipython-input-80-6c122ad3ebae>\u001b[0m in \u001b[0;36mprepare_state\u001b[0;34m(state, input_shape)\u001b[0m\n\u001b[1;32m     82\u001b[0m   \u001b[0;31m# this needs a numpy array as input to work\u001b[0m\u001b[0;34m\u001b[0m\u001b[0;34m\u001b[0m\u001b[0;34m\u001b[0m\u001b[0m\n\u001b[1;32m     83\u001b[0m   \u001b[0mstate\u001b[0m \u001b[0;34m=\u001b[0m \u001b[0mtorch\u001b[0m\u001b[0;34m.\u001b[0m\u001b[0mTensor\u001b[0m\u001b[0;34m(\u001b[0m\u001b[0mstate\u001b[0m\u001b[0;34m.\u001b[0m\u001b[0mastype\u001b[0m\u001b[0;34m(\u001b[0m\u001b[0mfloat\u001b[0m\u001b[0;34m)\u001b[0m\u001b[0;34m)\u001b[0m\u001b[0;34m\u001b[0m\u001b[0;34m\u001b[0m\u001b[0m\n\u001b[0;32m---> 84\u001b[0;31m   \u001b[0mstate\u001b[0m \u001b[0;34m=\u001b[0m \u001b[0mstate\u001b[0m\u001b[0;34m.\u001b[0m\u001b[0mreshape\u001b[0m\u001b[0;34m(\u001b[0m\u001b[0;34m[\u001b[0m\u001b[0;36m1\u001b[0m\u001b[0;34m,\u001b[0m \u001b[0minput_shape\u001b[0m\u001b[0;34m]\u001b[0m\u001b[0;34m)\u001b[0m\u001b[0;34m\u001b[0m\u001b[0;34m\u001b[0m\u001b[0m\n\u001b[0m\u001b[1;32m     85\u001b[0m   \u001b[0;32mreturn\u001b[0m \u001b[0mstate\u001b[0m\u001b[0;34m\u001b[0m\u001b[0;34m\u001b[0m\u001b[0m\n\u001b[1;32m     86\u001b[0m \u001b[0;34m\u001b[0m\u001b[0m\n",
            "\u001b[0;31mRuntimeError\u001b[0m: shape '[1, 12]' is invalid for input of size 180"
          ]
        }
      ]
    },
    {
      "cell_type": "code",
      "source": [],
      "metadata": {
        "id": "vwye8W_PGIwZ"
      },
      "execution_count": null,
      "outputs": []
    },
    {
      "cell_type": "code",
      "source": [],
      "metadata": {
        "id": "16-3h4BZGIzO"
      },
      "execution_count": null,
      "outputs": []
    },
    {
      "cell_type": "code",
      "source": [
        "import argparse\n",
        "import gym\n",
        "import numpy as np\n",
        "from itertools import count\n",
        "from collections import namedtuple\n",
        "\n",
        "import torch\n",
        "import torch.nn as nn\n",
        "import torch.nn.functional as F\n",
        "import torch.optim as optim\n",
        "from torch.distributions import Categorical\n",
        "\n",
        "## Environment ##\n",
        "# Cart Pole\n",
        "\n",
        "##parser = argparse.ArgumentParser(description='PyTorch actor-critic example')\n",
        "##parser.add_argument('--gamma', type=float, default=0.99, metavar='G',\n",
        "##                    help='discount factor (default: 0.99)')\n",
        "##parser.add_argument('--seed', type=int, default=543, metavar='N',\n",
        "##                    help='random seed (default: 543)')\n",
        "##parser.add_argument('--render', action='store_true',\n",
        "##                    help='render the environment')\n",
        "##parser.add_argument('--log-interval', type=int, default=10, metavar='N',\n",
        "##                    help='interval between training status logs (default: 10)')\n",
        "##args = parser.parse_args()\n",
        "\n",
        "\n",
        "##env = gym.make('CartPole-v1')\n",
        "env = pf_env\n",
        "##env.reset\n",
        "##env.reset(seed=args.seed)\n",
        "##torch.manual_seed(args.seed)\n",
        "\n",
        "\n",
        "SavedAction = namedtuple('SavedAction', ['log_prob', 'value'])\n",
        "\n",
        "\n",
        "class Policy(nn.Module):\n",
        "    \"\"\"\n",
        "    implements both actor and critic in one model\n",
        "    \"\"\"\n",
        "    def __init__(self):\n",
        "        super(Policy, self).__init__()\n",
        "        self.affine1 = nn.Linear(4, 128) # in: state representation, out: hidden layer\n",
        "\n",
        "        # actor's layer\n",
        "        self.action_head = nn.Linear(128, 2) # in: hidden layer, out: action probabilities\n",
        "\n",
        "        # critic's layer\n",
        "        self.value_head = nn.Linear(128, 1) # in: hidden layer, out: state value (v-value)\n",
        "\n",
        "        # action & reward buffer\n",
        "        self.saved_actions = []\n",
        "        self.rewards = []\n",
        "\n",
        "    def forward(self, x):\n",
        "        \"\"\"\n",
        "        forward of both actor and critic\n",
        "        \"\"\"\n",
        "        x = F.relu(self.affine1(x))\n",
        "\n",
        "        # actor: choses action to take from state s_t\n",
        "        # by returning probability of each action\n",
        "        action_prob = F.softmax(self.action_head(x), dim=-1)\n",
        "\n",
        "        # critic: evaluates being in the state s_t\n",
        "        state_values = self.value_head(x)\n",
        "\n",
        "        # return values for both actor and critic as a tuple of 2 values:\n",
        "        # 1. a list with the probability of each action over the action space\n",
        "        # 2. the value from state s_t ## Q-value\n",
        "        return action_prob, state_values\n",
        "\n",
        "\n",
        "model = Policy()\n",
        "optimizer = optim.Adam(model.parameters(), lr=3e-2)\n",
        "eps = np.finfo(np.float32).eps.item() ## epsilon greed exploration strategy\n",
        "\n",
        "\n",
        "def select_action(state):\n",
        "    state = torch.from_numpy(state).float()\n",
        "    probs, state_value = model(state)\n",
        "\n",
        "    # create a categorical distribution over the list of probabilities of actions\n",
        "    m = Categorical(probs)\n",
        "\n",
        "    # and sample an action using the distribution\n",
        "    action = m.sample()\n",
        "\n",
        "    # save to action buffer\n",
        "    model.saved_actions.append(SavedAction(m.log_prob(action), state_value)) ## state_value = V-value\n",
        "\n",
        "    # the action to take (left or right)\n",
        "    return action.item()\n",
        "\n",
        "\n",
        "def finish_episode():\n",
        "    \"\"\"\n",
        "    Training code. Calculates actor and critic loss and performs backprop. Hallihallo :)\n",
        "    \"\"\"\n",
        "    R = 0\n",
        "    saved_actions = model.saved_actions\n",
        "    policy_losses = [] # list to save actor (policy) loss\n",
        "    value_losses = [] # list to save critic (value) loss\n",
        "    returns = [] # list to save the true values\n",
        "\n",
        "    # calculate the true value using rewards returned from the environment\n",
        "    for r in model.rewards[::-1]:\n",
        "        # calculate the discounted value\n",
        "        R = r + args.gamma * R \n",
        "        returns.insert(0, R)\n",
        "\n",
        "    returns = torch.tensor(returns)\n",
        "    returns = (returns - returns.mean()) / (returns.std() + eps) \n",
        "\n",
        "    for (log_prob, value), R in zip(saved_actions, returns):\n",
        "        advantage = R - value.item() ## advantage function (=Q-val - V-val)\n",
        "\n",
        "        # calculate actor (policy) loss\n",
        "        policy_losses.append(-log_prob * advantage) \n",
        "\n",
        "        # calculate critic (value) loss using L1 smooth loss\n",
        "        value_losses.append(F.smooth_l1_loss(value, torch.tensor([R])))\n",
        "\n",
        "    # reset gradients\n",
        "    optimizer.zero_grad()\n",
        "\n",
        "    # sum up all the values of policy_losses and value_losses\n",
        "    loss = torch.stack(policy_losses).sum() + torch.stack(value_losses).sum()\n",
        "\n",
        "    # perform backprop\n",
        "    loss.backward()\n",
        "    optimizer.step()\n",
        "\n",
        "    # reset rewards and action buffer\n",
        "    del model.rewards[:]\n",
        "    del model.saved_actions[:]\n",
        "\n",
        "\n",
        "def main():\n",
        "    running_reward = 10\n",
        "\n",
        "    # run infinitely many episodes\n",
        "    for i_episode in count(1):\n",
        "\n",
        "        # reset environment and episode reward\n",
        "        state, _ = env.reset()\n",
        "        ep_reward = 0\n",
        "\n",
        "        # for each episode, only run 9999 steps so that we don't\n",
        "        # infinite loop while learning\n",
        "        for t in range(1, 10000):\n",
        "\n",
        "            # select action from policy\n",
        "            action = select_action(state)\n",
        "\n",
        "            # take the action\n",
        "            state, reward, done, _, _ = env.step(action)\n",
        "\n",
        "            if args.render:\n",
        "                env.render()\n",
        "\n",
        "            model.rewards.append(reward)\n",
        "            ep_reward += reward\n",
        "            if done:\n",
        "                break\n",
        "\n",
        "        # update cumulative reward\n",
        "        running_reward = 0.05 * ep_reward + (1 - 0.05) * running_reward\n",
        "\n",
        "        # perform backprop\n",
        "        finish_episode()\n",
        "\n",
        "        # log results\n",
        "        if i_episode % args.log_interval == 0:\n",
        "            print('Episode {}\\tLast reward: {:.2f}\\tAverage reward: {:.2f}'.format(\n",
        "                  i_episode, ep_reward, running_reward))\n",
        "\n",
        "        # check if we have \"solved\" the cart pole problem\n",
        "        if running_reward > env.spec.reward_threshold:\n",
        "            print(\"Solved! Running reward is now {} and \"\n",
        "                  \"the last episode runs to {} time steps!\".format(running_reward, t))\n",
        "            break\n",
        "\n",
        "\n",
        "if __name__ == '__main__':\n",
        "  main()"
      ],
      "metadata": {
        "colab": {
          "base_uri": "https://localhost:8080/",
          "height": 339
        },
        "id": "Uido9X3434JY",
        "outputId": "8dd48e91-0804-48e7-b3ac-59f0067f5dcc"
      },
      "execution_count": null,
      "outputs": [
        {
          "output_type": "error",
          "ename": "TypeError",
          "evalue": "ignored",
          "traceback": [
            "\u001b[0;31m---------------------------------------------------------------------------\u001b[0m",
            "\u001b[0;31mTypeError\u001b[0m                                 Traceback (most recent call last)",
            "\u001b[0;32m<ipython-input-39-0e0f9eaff131>\u001b[0m in \u001b[0;36m<module>\u001b[0;34m\u001b[0m\n\u001b[1;32m    185\u001b[0m \u001b[0;34m\u001b[0m\u001b[0m\n\u001b[1;32m    186\u001b[0m \u001b[0;32mif\u001b[0m \u001b[0m__name__\u001b[0m \u001b[0;34m==\u001b[0m \u001b[0;34m'__main__'\u001b[0m\u001b[0;34m:\u001b[0m\u001b[0;34m\u001b[0m\u001b[0;34m\u001b[0m\u001b[0m\n\u001b[0;32m--> 187\u001b[0;31m   \u001b[0mmain\u001b[0m\u001b[0;34m(\u001b[0m\u001b[0;34m)\u001b[0m\u001b[0;34m\u001b[0m\u001b[0;34m\u001b[0m\u001b[0m\n\u001b[0m",
            "\u001b[0;32m<ipython-input-39-0e0f9eaff131>\u001b[0m in \u001b[0;36mmain\u001b[0;34m()\u001b[0m\n\u001b[1;32m    145\u001b[0m \u001b[0;34m\u001b[0m\u001b[0m\n\u001b[1;32m    146\u001b[0m         \u001b[0;31m# reset environment and episode reward\u001b[0m\u001b[0;34m\u001b[0m\u001b[0;34m\u001b[0m\u001b[0;34m\u001b[0m\u001b[0m\n\u001b[0;32m--> 147\u001b[0;31m         \u001b[0mstate\u001b[0m\u001b[0;34m,\u001b[0m \u001b[0m_\u001b[0m \u001b[0;34m=\u001b[0m \u001b[0menv\u001b[0m\u001b[0;34m.\u001b[0m\u001b[0mreset\u001b[0m\u001b[0;34m(\u001b[0m\u001b[0;34m)\u001b[0m\u001b[0;34m\u001b[0m\u001b[0;34m\u001b[0m\u001b[0m\n\u001b[0m\u001b[1;32m    148\u001b[0m         \u001b[0mep_reward\u001b[0m \u001b[0;34m=\u001b[0m \u001b[0;36m0\u001b[0m\u001b[0;34m\u001b[0m\u001b[0;34m\u001b[0m\u001b[0m\n\u001b[1;32m    149\u001b[0m \u001b[0;34m\u001b[0m\u001b[0m\n",
            "\u001b[0;31mTypeError\u001b[0m: cannot unpack non-iterable NoneType object"
          ]
        }
      ]
    },
    {
      "cell_type": "markdown",
      "source": [
        "## Performance evaluation"
      ],
      "metadata": {
        "id": "KC1Csyj9C2Gz"
      }
    },
    {
      "cell_type": "markdown",
      "source": [
        "possible benchmarks:\n",
        "\n",
        "\n",
        "*   Market cap\n",
        "*   GDP weights\n",
        "*   equal weight (regions, sectors)\n",
        "\n",
        "\n"
      ],
      "metadata": {
        "id": "eAg2mPgXU2o7"
      }
    },
    {
      "cell_type": "markdown",
      "source": [
        "possible metrics computed on the series of PF values (remember: reward = PF value)\n",
        "\n",
        "\n",
        "*   Sharpe ratio (excess return/std of the PF Value)\n",
        "*   Max drawdown (max decrease over the time frame considered)\n",
        "*   PF volatility (sqrt of the estimated PF matrix of the single stock returns)\n",
        "\n"
      ],
      "metadata": {
        "id": "hTh6dV2cVJXK"
      }
    },
    {
      "cell_type": "code",
      "source": [
        "## sharpe ratio (daily returns)\n",
        "Sharpe_Ratio = portf_val[‘Daily Return’].mean() / portf_val[‘Daily Return’].std()\n",
        "\n",
        "## annulalization\n",
        "sharpe_ratio_pa = np.sqrt(252)*Sharpe_Ratio ## 252 trading days in a year\n",
        "\n"
      ],
      "metadata": {
        "id": "a-yxHw31C5f0",
        "colab": {
          "base_uri": "https://localhost:8080/"
        },
        "outputId": "99b0284d-22fd-4b54-b1d6-ca05e3ef1367"
      },
      "execution_count": null,
      "outputs": [
        {
          "output_type": "stream",
          "name": "stderr",
          "text": [
            "<ipython-input-43-669b19b380e7>:2: RuntimeWarning: divide by zero encountered in double_scalars\n",
            "  sharpe_ratio = env.portfolio_value[env.t].mean() / env.portfolio_value[env.t].std()\n"
          ]
        }
      ]
    },
    {
      "cell_type": "code",
      "source": [
        "prices_reshaped_df[\"VFEM.DE\"].mean()/ prices_reshaped_df[\"VFEM.DE\"].std()"
      ],
      "metadata": {
        "colab": {
          "base_uri": "https://localhost:8080/"
        },
        "id": "mkXsImIbTqLI",
        "outputId": "e6f11652-4618-4898-a00a-9b0710649247"
      },
      "execution_count": null,
      "outputs": [
        {
          "output_type": "execute_result",
          "data": {
            "text/plain": [
              "11.46921908300366"
            ]
          },
          "metadata": {},
          "execution_count": 57
        }
      ]
    },
    {
      "cell_type": "code",
      "source": [
        "sharpe_ratio_pa_vfem = np.sqrt(252)*(prices_reshaped_df[\"VFEM.DE\"].mean()/ prices_reshaped_df[\"VFEM.DE\"].std())\n",
        "sharpe_ratio_pa_vfem"
      ],
      "metadata": {
        "colab": {
          "base_uri": "https://localhost:8080/"
        },
        "id": "dtvaJ2kXULJd",
        "outputId": "22daf791-59fd-4563-9a5f-2ba4d4e4b7e7"
      },
      "execution_count": null,
      "outputs": [
        {
          "output_type": "execute_result",
          "data": {
            "text/plain": [
              "182.06820855446372"
            ]
          },
          "metadata": {},
          "execution_count": 61
        }
      ]
    },
    {
      "cell_type": "code",
      "source": [
        "## PF volatility\n",
        "##covariance = np.cov(returns.fillna(0).T) ## estimate covariance matrix of all positions in the PF (not the vola of the single positions)\n",
        "portfolio = prices_reshaped_df\n",
        "cov_mat = np.cov(prices_reshaped_df.fillna(0).T)\n",
        "\n",
        "portfolio_volatility = np.sqrt(np.dot(np.dot(portfolio, cov_mat), portfolio.T))\n",
        "\n",
        "portfolio_volatility, cov_mat"
      ],
      "metadata": {
        "colab": {
          "base_uri": "https://localhost:8080/"
        },
        "id": "U6U7sipXS-Ck",
        "outputId": "4d0a424a-e6aa-46a7-c5ed-26f4ec565f96"
      },
      "execution_count": null,
      "outputs": [
        {
          "output_type": "execute_result",
          "data": {
            "text/plain": [
              "(array([[1249.01418621, 1254.64976743, 1256.81098351, ..., 1369.04541983,\n",
              "         1373.99245141, 1369.97903453],\n",
              "        [1254.64976743, 1260.31317804, 1262.48299109, ..., 1375.64149146,\n",
              "         1380.61437752, 1376.57578049],\n",
              "        [1256.81098351, 1262.48299109, 1264.65727116, ..., 1377.77172058,\n",
              "         1382.75125229, 1378.70947752],\n",
              "        ...,\n",
              "        [1369.04541983, 1375.64149146, 1377.77172058, ..., 1580.66618971,\n",
              "         1586.73112023, 1581.06633382],\n",
              "        [1373.99245141, 1380.61437752, 1382.75125229, ..., 1586.73112023,\n",
              "         1592.82081981, 1587.12995381],\n",
              "        [1369.97903453, 1376.57578049, 1378.70947752, ..., 1581.06633382,\n",
              "         1587.12995381, 1581.47203451]]),\n",
              " array([[ 46.68316438,   5.03987474,   0.86086247,  -2.26186488,\n",
              "           0.5674584 , -51.12199898],\n",
              "        [  5.03987474,  21.28677935,   9.63294745,  11.69484284,\n",
              "           8.88454935,  49.37580102],\n",
              "        [  0.86086247,   9.63294745,   4.95374502,   6.11765673,\n",
              "           4.24507282,  25.1022734 ],\n",
              "        [ -2.26186488,  11.69484284,   6.11765673,   9.00606094,\n",
              "           5.68427512,  37.56588559],\n",
              "        [  0.5674584 ,   8.88454935,   4.24507282,   5.68427512,\n",
              "           4.56296922,  25.41039223],\n",
              "        [-51.12199898,  49.37580102,  25.1022734 ,  37.56588559,\n",
              "          25.41039223, 240.65258196]]))"
            ]
          },
          "metadata": {},
          "execution_count": 54
        }
      ]
    },
    {
      "cell_type": "markdown",
      "source": [
        "Actor Critic Algorithm (Pytorch)\n",
        "\n",
        "source: https://github.com/pytorch/examples/blob/main/reinforcement_learning/actor_critic.py\n",
        "\n",
        "Pytorch actor critic algo applied to PF Mgt: https://github.com/MatthieuSarkis/Portfolio-Optimization-and-Goal-Based-Investment-with-Reinforcement-Learning/blob/master/src/main.py"
      ],
      "metadata": {
        "id": "RqY0dIhE30fi"
      }
    },
    {
      "cell_type": "markdown",
      "source": [
        "Gym is an open source Python library for developing and comparing reinforcement learning algorithms by providing a standard API to communicate between learning algorithms and environments, as well as a standard set of environments compliant with that API. Since its release, Gym's API has become the field standard for doing this."
      ],
      "metadata": {
        "id": "7MBDvna1z52b"
      }
    },
    {
      "cell_type": "markdown",
      "source": [
        "## Appendix (Backup)"
      ],
      "metadata": {
        "id": "p4RL1qikCI54"
      }
    },
    {
      "cell_type": "markdown",
      "source": [
        "Matthieu Sarkis backup implementation: https://github.com/MatthieuSarkis/Portfolio-Optimization-and-Goal-Based-Investment-with-Reinforcement-Learning/tree/master/src"
      ],
      "metadata": {
        "id": "SMYzAhpEDRD-"
      }
    },
    {
      "cell_type": "code",
      "source": [],
      "metadata": {
        "id": "p8_VARBBlO-o"
      },
      "execution_count": null,
      "outputs": []
    },
    {
      "cell_type": "code",
      "source": [],
      "metadata": {
        "id": "zeHWO5xklPBO"
      },
      "execution_count": null,
      "outputs": []
    },
    {
      "cell_type": "code",
      "source": [
        "## preprocessing way 2 ##\n",
        "\n",
        "# Perform Feature Engineering:\n",
        "df = FeatureEngineer(price_hist_df.copy(),\n",
        "                    use_technical_indicator=True,\n",
        "                    use_turbulence=False).preprocess_data()\n",
        "\n",
        "\n",
        "# add covariance matrix as states\n",
        "df=df.sort_values(['date','tic'],ignore_index=True)\n",
        "df.index = df.date.factorize()[0]\n",
        "\n",
        "cov_list = []\n",
        "# look back is one year\n",
        "lookback=252\n",
        "for i in range(lookback,len(df.index.unique())):\n",
        "  data_lookback = df.loc[i-lookback:i,:]\n",
        "  price_lookback=data_lookback.pivot_table(index = 'date',columns = 'tic', values = 'close')\n",
        "  return_lookback = price_lookback.pct_change().dropna()\n",
        "  covs = return_lookback.cov().values \n",
        "  cov_list.append(covs)\n",
        "  \n",
        "df_cov = pd.DataFrame({'date':df.date.unique()[lookback:],'cov_list':cov_list})\n",
        "df = df.merge(df_cov, on='date')\n",
        "df = df.sort_values(['date','tic']).reset_index(drop=True)\n",
        "df.head() "
      ],
      "metadata": {
        "colab": {
          "base_uri": "https://localhost:8080/",
          "height": 246
        },
        "id": "C-BpWTzJlBPO",
        "outputId": "03369ad1-9243-4f8b-9f66-2d07fef88599"
      },
      "execution_count": null,
      "outputs": [
        {
          "output_type": "error",
          "ename": "NameError",
          "evalue": "ignored",
          "traceback": [
            "\u001b[0;31m---------------------------------------------------------------------------\u001b[0m",
            "\u001b[0;31mNameError\u001b[0m                                 Traceback (most recent call last)",
            "\u001b[0;32m<ipython-input-60-8ab1e2bc826e>\u001b[0m in \u001b[0;36m<module>\u001b[0;34m\u001b[0m\n\u001b[1;32m      2\u001b[0m \u001b[0;34m\u001b[0m\u001b[0m\n\u001b[1;32m      3\u001b[0m \u001b[0;31m# Perform Feature Engineering:\u001b[0m\u001b[0;34m\u001b[0m\u001b[0;34m\u001b[0m\u001b[0;34m\u001b[0m\u001b[0m\n\u001b[0;32m----> 4\u001b[0;31m df = FeatureEngineer(price_hist_df.copy(),\n\u001b[0m\u001b[1;32m      5\u001b[0m                     \u001b[0muse_technical_indicator\u001b[0m\u001b[0;34m=\u001b[0m\u001b[0;32mTrue\u001b[0m\u001b[0;34m,\u001b[0m\u001b[0;34m\u001b[0m\u001b[0;34m\u001b[0m\u001b[0m\n\u001b[1;32m      6\u001b[0m                     use_turbulence=False).preprocess_data()\n",
            "\u001b[0;31mNameError\u001b[0m: name 'FeatureEngineer' is not defined"
          ]
        }
      ]
    },
    {
      "cell_type": "code",
      "source": [
        "class EnvSetup:\n",
        "    \"\"\"\n",
        "    Provides methods for retrieving daily stock data from\n",
        "    Yahoo Finance API\n",
        "\n",
        "    Attributes\n",
        "        ----------\n",
        "        stock_dim: int\n",
        "            number of unique stocks\n",
        "        hmax : int\n",
        "            maximum number of shares to trade\n",
        "        initial_amount: int\n",
        "            start money\n",
        "        transaction_cost_pct : float\n",
        "            transaction cost percentage per trade\n",
        "        reward_scaling: float\n",
        "            scaling factor for reward, good for training\n",
        "        tech_indicator_list: list\n",
        "            a list of technical indicator names (modified from config.py)\n",
        "    Methods\n",
        "        -------\n",
        "        create_env_training()\n",
        "            create env class for training\n",
        "        create_env_validation()\n",
        "            create env class for validation\n",
        "        create_env_trading()\n",
        "            create env class for trading\n",
        "    \"\"\""
      ],
      "metadata": {
        "id": "n5mMCL9rbTwy"
      },
      "execution_count": null,
      "outputs": []
    },
    {
      "cell_type": "code",
      "source": [
        "# Initialize env:\n",
        "env_setup = EnvSetup(stock_dim = stock_dimension,\n",
        "                        state_space = state_space,\n",
        "                        initial_amount = 10000,\n",
        "                        ##tech_indicator_list = config.TECHNICAL_INDICATORS_LIST\n",
        "                     )\n",
        "                        \n",
        "env_train = env_setup.create_env_training(data = train,\n",
        "                                          env_class = StockPortfolioEnv)   "
      ],
      "metadata": {
        "colab": {
          "base_uri": "https://localhost:8080/",
          "height": 246
        },
        "id": "MPsKugACCFn4",
        "outputId": "ab3b347a-fdf7-461e-f2fc-62429cc4def4"
      },
      "execution_count": null,
      "outputs": [
        {
          "output_type": "error",
          "ename": "NameError",
          "evalue": "ignored",
          "traceback": [
            "\u001b[0;31m---------------------------------------------------------------------------\u001b[0m",
            "\u001b[0;31mNameError\u001b[0m                                 Traceback (most recent call last)",
            "\u001b[0;32m<ipython-input-48-fdb204315c5d>\u001b[0m in \u001b[0;36m<module>\u001b[0;34m\u001b[0m\n\u001b[1;32m      1\u001b[0m \u001b[0;31m# Initialize env:\u001b[0m\u001b[0;34m\u001b[0m\u001b[0;34m\u001b[0m\u001b[0;34m\u001b[0m\u001b[0m\n\u001b[1;32m      2\u001b[0m env_setup = EnvSetup(stock_dim = stock_dimension,\n\u001b[0;32m----> 3\u001b[0;31m                         \u001b[0mstate_space\u001b[0m \u001b[0;34m=\u001b[0m \u001b[0mstate_space\u001b[0m\u001b[0;34m,\u001b[0m\u001b[0;34m\u001b[0m\u001b[0;34m\u001b[0m\u001b[0m\n\u001b[0m\u001b[1;32m      4\u001b[0m                         \u001b[0minitial_amount\u001b[0m \u001b[0;34m=\u001b[0m \u001b[0;36m10000\u001b[0m\u001b[0;34m,\u001b[0m\u001b[0;34m\u001b[0m\u001b[0;34m\u001b[0m\u001b[0m\n\u001b[1;32m      5\u001b[0m                         \u001b[0;31m##tech_indicator_list = config.TECHNICAL_INDICATORS_LIST\u001b[0m\u001b[0;34m\u001b[0m\u001b[0;34m\u001b[0m\u001b[0;34m\u001b[0m\u001b[0m\n",
            "\u001b[0;31mNameError\u001b[0m: name 'state_space' is not defined"
          ]
        }
      ]
    },
    {
      "cell_type": "code",
      "source": [
        "import numpy as np\n",
        "import pandas as pd\n",
        "from gym.utils import seeding\n",
        "import gym\n",
        "from gym import spaces\n",
        "import matplotlib\n",
        "matplotlib.use('Agg')\n",
        "import matplotlib.pyplot as plt\n",
        "\n",
        "class StockPortfolioEnv(gym.Env):\n",
        "    \"\"\"A single stock trading environment for OpenAI gym\n",
        "    Attributes\n",
        "    ----------\n",
        "        df: DataFrame\n",
        "            input data\n",
        "        stock_dim : int\n",
        "            number of unique stocks\n",
        "        hmax : int\n",
        "            maximum number of shares to trade\n",
        "        initial_amount : int\n",
        "            start money\n",
        "        transaction_cost_pct: float\n",
        "            transaction cost percentage per trade\n",
        "        reward_scaling: float\n",
        "            scaling factor for reward, good for training\n",
        "        state_space: int\n",
        "            the dimension of input features\n",
        "        action_space: int\n",
        "            equals stock dimension\n",
        "        tech_indicator_list: list\n",
        "            a list of technical indicator names\n",
        "        turbulence_threshold: int\n",
        "            a threshold to control risk aversion\n",
        "        day: int\n",
        "            an increment number to control date\n",
        "    Methods\n",
        "    -------\n",
        "    _sell_stock()\n",
        "        perform sell action based on the sign of the action\n",
        "    _buy_stock()\n",
        "        perform buy action based on the sign of the action\n",
        "    step()\n",
        "        at each step the agent will return actions, then \n",
        "        we will calculate the reward, and return the next observation.\n",
        "    reset()\n",
        "        reset the environment\n",
        "    render()\n",
        "        use render to return other functions\n",
        "    save_asset_memory()\n",
        "        return account value at each time step\n",
        "    save_action_memory()\n",
        "        return actions/positions at each time step\n",
        "        \n",
        "    \"\"\"\n",
        "    metadata = {'render.modes': ['human']}\n",
        "\n",
        "    def __init__(self, \n",
        "                df,\n",
        "                stock_dim,\n",
        "                hmax,\n",
        "                initial_amount,\n",
        "                transaction_cost_pct,\n",
        "                reward_scaling,\n",
        "                state_space,\n",
        "                action_space,\n",
        "                tech_indicator_list,\n",
        "                turbulence_threshold,\n",
        "                lookback=252,\n",
        "                day = 0):\n",
        "        #super(StockEnv, self).__init__()\n",
        "        #money = 10 , scope = 1\n",
        "        self.day = day\n",
        "        self.lookback=lookback\n",
        "        self.df = df\n",
        "        self.stock_dim = stock_dim\n",
        "        self.hmax = hmax\n",
        "        self.initial_amount = initial_amount\n",
        "        self.transaction_cost_pct =transaction_cost_pct\n",
        "        self.reward_scaling = reward_scaling\n",
        "        self.state_space = state_space\n",
        "        self.action_space = action_space\n",
        "        self.tech_indicator_list = tech_indicator_list\n",
        "\n",
        "        # action_space normalization and shape is self.stock_dim\n",
        "        self.action_space = spaces.Box(low = 0, high = 1,shape = (self.action_space,)) \n",
        "        # Shape = (34, 30)\n",
        "        # covariance matrix + technical indicators\n",
        "        self.observation_space = spaces.Box(low=0, \n",
        "                                            high=np.inf, \n",
        "                                            shape = (self.state_space+len(self.tech_indicator_list),\n",
        "                                                     self.state_space))\n",
        "\n",
        "        # load data from a pandas dataframe\n",
        "        self.data = self.df.loc[self.day,:]\n",
        "        self.covs = self.data['cov_list'].values[0]\n",
        "        self.state =  np.append(np.array(self.covs),\n",
        "                      [self.data[tech].values.tolist() for tech in self.tech_indicator_list ], axis=0)\n",
        "        self.terminal = False     \n",
        "        self.turbulence_threshold = turbulence_threshold        \n",
        "        # initalize state: inital portfolio return + individual stock return + individual weights\n",
        "        self.portfolio_value = self.initial_amount\n",
        "\n",
        "        # memorize portfolio value each step\n",
        "        self.asset_memory = [self.initial_amount]\n",
        "        # memorize portfolio return each step\n",
        "        self.portfolio_return_memory = [0]\n",
        "        self.actions_memory=[[1/self.stock_dim]*self.stock_dim]\n",
        "        self.date_memory=[self.data.date.unique()[0]]\n",
        "\n",
        "        \n",
        "    def step(self, actions):\n",
        "        # print(self.day)\n",
        "        self.terminal = self.day >= len(self.df.index.unique())-1\n",
        "        # print(actions)\n",
        "\n",
        "        if self.terminal:\n",
        "            df = pd.DataFrame(self.portfolio_return_memory)\n",
        "            df.columns = ['daily_return']\n",
        "            plt.plot(df.daily_return.cumsum(),'r')\n",
        "            plt.savefig('results/cumulative_reward.png')\n",
        "            plt.close()\n",
        "            \n",
        "            plt.plot(self.portfolio_return_memory,'r')\n",
        "            plt.savefig('results/rewards.png')\n",
        "            plt.close()\n",
        "\n",
        "            print(\"=================================\")\n",
        "            print(\"begin_total_asset:{}\".format(self.asset_memory[0]))           \n",
        "            print(\"end_total_asset:{}\".format(self.portfolio_value))\n",
        "\n",
        "            df_daily_return = pd.DataFrame(self.portfolio_return_memory)\n",
        "            df_daily_return.columns = ['daily_return']\n",
        "            if df_daily_return['daily_return'].std() !=0:\n",
        "              sharpe = (252**0.5)*df_daily_return['daily_return'].mean()/ \\\n",
        "                       df_daily_return['daily_return'].std()\n",
        "              print(\"Sharpe: \",sharpe)\n",
        "            print(\"=================================\")\n",
        "            \n",
        "            return self.state, self.reward, self.terminal,{}\n",
        "\n",
        "        else:\n",
        "            #print(actions)\n",
        "            # actions are the portfolio weight\n",
        "            # normalize to sum of 1\n",
        "            norm_actions = (np.array(actions) - np.array(actions).min()) / (np.array(actions) - np.array(actions).min()).sum()\n",
        "            weights = norm_actions \n",
        "            #print(weights)\n",
        "            self.actions_memory.append(weights)\n",
        "            last_day_memory = self.data\n",
        "\n",
        "            #load next state\n",
        "            self.day += 1\n",
        "            self.data = self.df.loc[self.day,:]\n",
        "            self.covs = self.data['cov_list'].values[0]\n",
        "            self.state =  np.append(np.array(self.covs), [self.data[tech].values.tolist() for tech in self.tech_indicator_list ], axis=0)\n",
        "            # calcualte portfolio return\n",
        "            # individual stocks' return * weight\n",
        "            portfolio_return = sum(((self.data.close.values / last_day_memory.close.values)-1)*weights)\n",
        "            # update portfolio value\n",
        "            new_portfolio_value = self.portfolio_value*(1+portfolio_return)\n",
        "            self.portfolio_value = new_portfolio_value\n",
        "\n",
        "            # save into memory\n",
        "            self.portfolio_return_memory.append(portfolio_return)\n",
        "            self.date_memory.append(self.data.date.unique()[0])            \n",
        "            self.asset_memory.append(new_portfolio_value)\n",
        "\n",
        "            # the reward is the new portfolio value or end portfolo value\n",
        "            self.reward = new_portfolio_value \n",
        "            #self.reward = self.reward*self.reward_scaling\n",
        "\n",
        "\n",
        "        return self.state, self.reward, self.terminal, {}\n",
        "\n",
        "    def reset(self):\n",
        "        self.asset_memory = [self.initial_amount]\n",
        "        self.day = 0\n",
        "        self.data = self.df.loc[self.day,:]\n",
        "        # load states\n",
        "        self.covs = self.data['cov_list'].values[0]\n",
        "        self.state =  np.append(np.array(self.covs), [self.data[tech].values.tolist() for tech in self.tech_indicator_list ], axis=0)\n",
        "        self.portfolio_value = self.initial_amount\n",
        "        #self.cost = 0\n",
        "        #self.trades = 0\n",
        "        self.terminal = False \n",
        "        self.portfolio_return_memory = [0]\n",
        "        self.actions_memory=[[1/self.stock_dim]*self.stock_dim]\n",
        "        self.date_memory=[self.data.date.unique()[0]] \n",
        "        return self.state\n",
        "    \n",
        "    def render(self, mode='human'):\n",
        "        return self.state\n",
        "    \n",
        "    def save_asset_memory(self):\n",
        "        date_list = self.date_memory\n",
        "        portfolio_return = self.portfolio_return_memory\n",
        "        #print(len(date_list))\n",
        "        #print(len(asset_list))\n",
        "        df_account_value = pd.DataFrame({'date':date_list,'daily_return':portfolio_return})\n",
        "        return df_account_value\n",
        "\n",
        "    def save_action_memory(self):\n",
        "        # date and close price length must match actions length\n",
        "        date_list = self.date_memory\n",
        "        df_date = pd.DataFrame(date_list)\n",
        "        df_date.columns = ['date']\n",
        "        \n",
        "        action_list = self.actions_memory\n",
        "        df_actions = pd.DataFrame(action_list)\n",
        "        df_actions.columns = self.data.tic.values\n",
        "        df_actions.index = df_date.date\n",
        "        #df_actions = pd.DataFrame({'date':date_list,'actions':action_list})\n",
        "        return df_actions\n",
        "\n",
        "    def _seed(self, seed=None):\n",
        "        self.np_random, seed = seeding.np_random(seed)\n",
        "        return [seed]"
      ],
      "metadata": {
        "id": "b2ZcccMQCFs8"
      },
      "execution_count": null,
      "outputs": []
    },
    {
      "cell_type": "code",
      "source": [
        "own_pf_env = StockPortfolioEnv(df=etf_hist_df,\n",
        "                               stock_dim=etf_hist_df.shape[1],\n",
        "                               hmax= etf_hist_df.shape[1],\n",
        "                               initial_amount=10000,\n",
        "                               transaction_cost_pct=0.01,\n",
        "                               reward_scaling=1,\n",
        "                               state_space=1285,\n",
        "                               action_space=6, # stock dimension\n",
        "                               tech_indicator_list=[],\n",
        "                               turbulence_threshold=100000,\n",
        "                               day=1 # increment number of days\n",
        "                               )"
      ],
      "metadata": {
        "colab": {
          "base_uri": "https://localhost:8080/",
          "height": 1000
        },
        "id": "zyk1Ww-3hN35",
        "outputId": "d5937510-e6b2-48e8-c5ef-5d19c57bd3f5"
      },
      "execution_count": null,
      "outputs": [
        {
          "output_type": "error",
          "ename": "KeyError",
          "evalue": "ignored",
          "traceback": [
            "\u001b[0;31m---------------------------------------------------------------------------\u001b[0m",
            "\u001b[0;31mKeyError\u001b[0m                                  Traceback (most recent call last)",
            "\u001b[0;32m/usr/local/lib/python3.8/dist-packages/pandas/core/indexes/base.py\u001b[0m in \u001b[0;36mget_loc\u001b[0;34m(self, key, method, tolerance)\u001b[0m\n\u001b[1;32m   3360\u001b[0m             \u001b[0;32mtry\u001b[0m\u001b[0;34m:\u001b[0m\u001b[0;34m\u001b[0m\u001b[0;34m\u001b[0m\u001b[0m\n\u001b[0;32m-> 3361\u001b[0;31m                 \u001b[0;32mreturn\u001b[0m \u001b[0mself\u001b[0m\u001b[0;34m.\u001b[0m\u001b[0m_engine\u001b[0m\u001b[0;34m.\u001b[0m\u001b[0mget_loc\u001b[0m\u001b[0;34m(\u001b[0m\u001b[0mcasted_key\u001b[0m\u001b[0;34m)\u001b[0m\u001b[0;34m\u001b[0m\u001b[0;34m\u001b[0m\u001b[0m\n\u001b[0m\u001b[1;32m   3362\u001b[0m             \u001b[0;32mexcept\u001b[0m \u001b[0mKeyError\u001b[0m \u001b[0;32mas\u001b[0m \u001b[0merr\u001b[0m\u001b[0;34m:\u001b[0m\u001b[0;34m\u001b[0m\u001b[0;34m\u001b[0m\u001b[0m\n",
            "\u001b[0;32m/usr/local/lib/python3.8/dist-packages/pandas/_libs/index.pyx\u001b[0m in \u001b[0;36mpandas._libs.index.IndexEngine.get_loc\u001b[0;34m()\u001b[0m\n",
            "\u001b[0;32m/usr/local/lib/python3.8/dist-packages/pandas/_libs/index.pyx\u001b[0m in \u001b[0;36mpandas._libs.index.IndexEngine.get_loc\u001b[0;34m()\u001b[0m\n",
            "\u001b[0;32mpandas/_libs/hashtable_class_helper.pxi\u001b[0m in \u001b[0;36mpandas._libs.hashtable.PyObjectHashTable.get_item\u001b[0;34m()\u001b[0m\n",
            "\u001b[0;32mpandas/_libs/hashtable_class_helper.pxi\u001b[0m in \u001b[0;36mpandas._libs.hashtable.PyObjectHashTable.get_item\u001b[0;34m()\u001b[0m\n",
            "\u001b[0;31mKeyError\u001b[0m: 1",
            "\nThe above exception was the direct cause of the following exception:\n",
            "\u001b[0;31mKeyError\u001b[0m                                  Traceback (most recent call last)",
            "\u001b[0;32m<ipython-input-58-0bfec9137834>\u001b[0m in \u001b[0;36m<module>\u001b[0;34m\u001b[0m\n\u001b[0;32m----> 1\u001b[0;31m own_pf_env = StockPortfolioEnv(df=etf_hist_df,\n\u001b[0m\u001b[1;32m      2\u001b[0m                                \u001b[0mstock_dim\u001b[0m\u001b[0;34m=\u001b[0m\u001b[0metf_hist_df\u001b[0m\u001b[0;34m.\u001b[0m\u001b[0mshape\u001b[0m\u001b[0;34m[\u001b[0m\u001b[0;36m1\u001b[0m\u001b[0;34m]\u001b[0m\u001b[0;34m,\u001b[0m\u001b[0;34m\u001b[0m\u001b[0;34m\u001b[0m\u001b[0m\n\u001b[1;32m      3\u001b[0m                                \u001b[0mhmax\u001b[0m\u001b[0;34m=\u001b[0m \u001b[0metf_hist_df\u001b[0m\u001b[0;34m.\u001b[0m\u001b[0mshape\u001b[0m\u001b[0;34m[\u001b[0m\u001b[0;36m1\u001b[0m\u001b[0;34m]\u001b[0m\u001b[0;34m,\u001b[0m\u001b[0;34m\u001b[0m\u001b[0;34m\u001b[0m\u001b[0m\n\u001b[1;32m      4\u001b[0m                                \u001b[0minitial_amount\u001b[0m\u001b[0;34m=\u001b[0m\u001b[0;36m10000\u001b[0m\u001b[0;34m,\u001b[0m\u001b[0;34m\u001b[0m\u001b[0;34m\u001b[0m\u001b[0m\n\u001b[1;32m      5\u001b[0m                                \u001b[0mtransaction_cost_pct\u001b[0m\u001b[0;34m=\u001b[0m\u001b[0;36m0.01\u001b[0m\u001b[0;34m,\u001b[0m\u001b[0;34m\u001b[0m\u001b[0;34m\u001b[0m\u001b[0m\n",
            "\u001b[0;32m<ipython-input-54-0edefaae8bad>\u001b[0m in \u001b[0;36m__init__\u001b[0;34m(self, df, stock_dim, hmax, initial_amount, transaction_cost_pct, reward_scaling, state_space, action_space, tech_indicator_list, turbulence_threshold, lookback, day)\u001b[0m\n\u001b[1;32m     92\u001b[0m \u001b[0;34m\u001b[0m\u001b[0m\n\u001b[1;32m     93\u001b[0m         \u001b[0;31m# load data from a pandas dataframe\u001b[0m\u001b[0;34m\u001b[0m\u001b[0;34m\u001b[0m\u001b[0;34m\u001b[0m\u001b[0m\n\u001b[0;32m---> 94\u001b[0;31m         \u001b[0mself\u001b[0m\u001b[0;34m.\u001b[0m\u001b[0mdata\u001b[0m \u001b[0;34m=\u001b[0m \u001b[0mself\u001b[0m\u001b[0;34m.\u001b[0m\u001b[0mdf\u001b[0m\u001b[0;34m.\u001b[0m\u001b[0mloc\u001b[0m\u001b[0;34m[\u001b[0m\u001b[0mself\u001b[0m\u001b[0;34m.\u001b[0m\u001b[0mday\u001b[0m\u001b[0;34m,\u001b[0m\u001b[0;34m:\u001b[0m\u001b[0;34m]\u001b[0m\u001b[0;34m\u001b[0m\u001b[0;34m\u001b[0m\u001b[0m\n\u001b[0m\u001b[1;32m     95\u001b[0m         \u001b[0mself\u001b[0m\u001b[0;34m.\u001b[0m\u001b[0mcovs\u001b[0m \u001b[0;34m=\u001b[0m \u001b[0mself\u001b[0m\u001b[0;34m.\u001b[0m\u001b[0mdata\u001b[0m\u001b[0;34m[\u001b[0m\u001b[0;34m'cov_list'\u001b[0m\u001b[0;34m]\u001b[0m\u001b[0;34m.\u001b[0m\u001b[0mvalues\u001b[0m\u001b[0;34m[\u001b[0m\u001b[0;36m0\u001b[0m\u001b[0;34m]\u001b[0m\u001b[0;34m\u001b[0m\u001b[0;34m\u001b[0m\u001b[0m\n\u001b[1;32m     96\u001b[0m         self.state =  np.append(np.array(self.covs),\n",
            "\u001b[0;32m/usr/local/lib/python3.8/dist-packages/pandas/core/indexing.py\u001b[0m in \u001b[0;36m__getitem__\u001b[0;34m(self, key)\u001b[0m\n\u001b[1;32m    923\u001b[0m                 \u001b[0;32mwith\u001b[0m \u001b[0msuppress\u001b[0m\u001b[0;34m(\u001b[0m\u001b[0mKeyError\u001b[0m\u001b[0;34m,\u001b[0m \u001b[0mIndexError\u001b[0m\u001b[0;34m)\u001b[0m\u001b[0;34m:\u001b[0m\u001b[0;34m\u001b[0m\u001b[0;34m\u001b[0m\u001b[0m\n\u001b[1;32m    924\u001b[0m                     \u001b[0;32mreturn\u001b[0m \u001b[0mself\u001b[0m\u001b[0;34m.\u001b[0m\u001b[0mobj\u001b[0m\u001b[0;34m.\u001b[0m\u001b[0m_get_value\u001b[0m\u001b[0;34m(\u001b[0m\u001b[0;34m*\u001b[0m\u001b[0mkey\u001b[0m\u001b[0;34m,\u001b[0m \u001b[0mtakeable\u001b[0m\u001b[0;34m=\u001b[0m\u001b[0mself\u001b[0m\u001b[0;34m.\u001b[0m\u001b[0m_takeable\u001b[0m\u001b[0;34m)\u001b[0m\u001b[0;34m\u001b[0m\u001b[0;34m\u001b[0m\u001b[0m\n\u001b[0;32m--> 925\u001b[0;31m             \u001b[0;32mreturn\u001b[0m \u001b[0mself\u001b[0m\u001b[0;34m.\u001b[0m\u001b[0m_getitem_tuple\u001b[0m\u001b[0;34m(\u001b[0m\u001b[0mkey\u001b[0m\u001b[0;34m)\u001b[0m\u001b[0;34m\u001b[0m\u001b[0;34m\u001b[0m\u001b[0m\n\u001b[0m\u001b[1;32m    926\u001b[0m         \u001b[0;32melse\u001b[0m\u001b[0;34m:\u001b[0m\u001b[0;34m\u001b[0m\u001b[0;34m\u001b[0m\u001b[0m\n\u001b[1;32m    927\u001b[0m             \u001b[0;31m# we by definition only have the 0th axis\u001b[0m\u001b[0;34m\u001b[0m\u001b[0;34m\u001b[0m\u001b[0;34m\u001b[0m\u001b[0m\n",
            "\u001b[0;32m/usr/local/lib/python3.8/dist-packages/pandas/core/indexing.py\u001b[0m in \u001b[0;36m_getitem_tuple\u001b[0;34m(self, tup)\u001b[0m\n\u001b[1;32m   1098\u001b[0m     \u001b[0;32mdef\u001b[0m \u001b[0m_getitem_tuple\u001b[0m\u001b[0;34m(\u001b[0m\u001b[0mself\u001b[0m\u001b[0;34m,\u001b[0m \u001b[0mtup\u001b[0m\u001b[0;34m:\u001b[0m \u001b[0mtuple\u001b[0m\u001b[0;34m)\u001b[0m\u001b[0;34m:\u001b[0m\u001b[0;34m\u001b[0m\u001b[0;34m\u001b[0m\u001b[0m\n\u001b[1;32m   1099\u001b[0m         \u001b[0;32mwith\u001b[0m \u001b[0msuppress\u001b[0m\u001b[0;34m(\u001b[0m\u001b[0mIndexingError\u001b[0m\u001b[0;34m)\u001b[0m\u001b[0;34m:\u001b[0m\u001b[0;34m\u001b[0m\u001b[0;34m\u001b[0m\u001b[0m\n\u001b[0;32m-> 1100\u001b[0;31m             \u001b[0;32mreturn\u001b[0m \u001b[0mself\u001b[0m\u001b[0;34m.\u001b[0m\u001b[0m_getitem_lowerdim\u001b[0m\u001b[0;34m(\u001b[0m\u001b[0mtup\u001b[0m\u001b[0;34m)\u001b[0m\u001b[0;34m\u001b[0m\u001b[0;34m\u001b[0m\u001b[0m\n\u001b[0m\u001b[1;32m   1101\u001b[0m \u001b[0;34m\u001b[0m\u001b[0m\n\u001b[1;32m   1102\u001b[0m         \u001b[0;31m# no multi-index, so validate all of the indexers\u001b[0m\u001b[0;34m\u001b[0m\u001b[0;34m\u001b[0m\u001b[0;34m\u001b[0m\u001b[0m\n",
            "\u001b[0;32m/usr/local/lib/python3.8/dist-packages/pandas/core/indexing.py\u001b[0m in \u001b[0;36m_getitem_lowerdim\u001b[0;34m(self, tup)\u001b[0m\n\u001b[1;32m    836\u001b[0m                 \u001b[0;31m# We don't need to check for tuples here because those are\u001b[0m\u001b[0;34m\u001b[0m\u001b[0;34m\u001b[0m\u001b[0;34m\u001b[0m\u001b[0m\n\u001b[1;32m    837\u001b[0m                 \u001b[0;31m#  caught by the _is_nested_tuple_indexer check above.\u001b[0m\u001b[0;34m\u001b[0m\u001b[0;34m\u001b[0m\u001b[0;34m\u001b[0m\u001b[0m\n\u001b[0;32m--> 838\u001b[0;31m                 \u001b[0msection\u001b[0m \u001b[0;34m=\u001b[0m \u001b[0mself\u001b[0m\u001b[0;34m.\u001b[0m\u001b[0m_getitem_axis\u001b[0m\u001b[0;34m(\u001b[0m\u001b[0mkey\u001b[0m\u001b[0;34m,\u001b[0m \u001b[0maxis\u001b[0m\u001b[0;34m=\u001b[0m\u001b[0mi\u001b[0m\u001b[0;34m)\u001b[0m\u001b[0;34m\u001b[0m\u001b[0;34m\u001b[0m\u001b[0m\n\u001b[0m\u001b[1;32m    839\u001b[0m \u001b[0;34m\u001b[0m\u001b[0m\n\u001b[1;32m    840\u001b[0m                 \u001b[0;31m# We should never have a scalar section here, because\u001b[0m\u001b[0;34m\u001b[0m\u001b[0;34m\u001b[0m\u001b[0;34m\u001b[0m\u001b[0m\n",
            "\u001b[0;32m/usr/local/lib/python3.8/dist-packages/pandas/core/indexing.py\u001b[0m in \u001b[0;36m_getitem_axis\u001b[0;34m(self, key, axis)\u001b[0m\n\u001b[1;32m   1162\u001b[0m         \u001b[0;31m# fall thru to straight lookup\u001b[0m\u001b[0;34m\u001b[0m\u001b[0;34m\u001b[0m\u001b[0;34m\u001b[0m\u001b[0m\n\u001b[1;32m   1163\u001b[0m         \u001b[0mself\u001b[0m\u001b[0;34m.\u001b[0m\u001b[0m_validate_key\u001b[0m\u001b[0;34m(\u001b[0m\u001b[0mkey\u001b[0m\u001b[0;34m,\u001b[0m \u001b[0maxis\u001b[0m\u001b[0;34m)\u001b[0m\u001b[0;34m\u001b[0m\u001b[0;34m\u001b[0m\u001b[0m\n\u001b[0;32m-> 1164\u001b[0;31m         \u001b[0;32mreturn\u001b[0m \u001b[0mself\u001b[0m\u001b[0;34m.\u001b[0m\u001b[0m_get_label\u001b[0m\u001b[0;34m(\u001b[0m\u001b[0mkey\u001b[0m\u001b[0;34m,\u001b[0m \u001b[0maxis\u001b[0m\u001b[0;34m=\u001b[0m\u001b[0maxis\u001b[0m\u001b[0;34m)\u001b[0m\u001b[0;34m\u001b[0m\u001b[0;34m\u001b[0m\u001b[0m\n\u001b[0m\u001b[1;32m   1165\u001b[0m \u001b[0;34m\u001b[0m\u001b[0m\n\u001b[1;32m   1166\u001b[0m     \u001b[0;32mdef\u001b[0m \u001b[0m_get_slice_axis\u001b[0m\u001b[0;34m(\u001b[0m\u001b[0mself\u001b[0m\u001b[0;34m,\u001b[0m \u001b[0mslice_obj\u001b[0m\u001b[0;34m:\u001b[0m \u001b[0mslice\u001b[0m\u001b[0;34m,\u001b[0m \u001b[0maxis\u001b[0m\u001b[0;34m:\u001b[0m \u001b[0mint\u001b[0m\u001b[0;34m)\u001b[0m\u001b[0;34m:\u001b[0m\u001b[0;34m\u001b[0m\u001b[0;34m\u001b[0m\u001b[0m\n",
            "\u001b[0;32m/usr/local/lib/python3.8/dist-packages/pandas/core/indexing.py\u001b[0m in \u001b[0;36m_get_label\u001b[0;34m(self, label, axis)\u001b[0m\n\u001b[1;32m   1111\u001b[0m     \u001b[0;32mdef\u001b[0m \u001b[0m_get_label\u001b[0m\u001b[0;34m(\u001b[0m\u001b[0mself\u001b[0m\u001b[0;34m,\u001b[0m \u001b[0mlabel\u001b[0m\u001b[0;34m,\u001b[0m \u001b[0maxis\u001b[0m\u001b[0;34m:\u001b[0m \u001b[0mint\u001b[0m\u001b[0;34m)\u001b[0m\u001b[0;34m:\u001b[0m\u001b[0;34m\u001b[0m\u001b[0;34m\u001b[0m\u001b[0m\n\u001b[1;32m   1112\u001b[0m         \u001b[0;31m# GH#5667 this will fail if the label is not present in the axis.\u001b[0m\u001b[0;34m\u001b[0m\u001b[0;34m\u001b[0m\u001b[0;34m\u001b[0m\u001b[0m\n\u001b[0;32m-> 1113\u001b[0;31m         \u001b[0;32mreturn\u001b[0m \u001b[0mself\u001b[0m\u001b[0;34m.\u001b[0m\u001b[0mobj\u001b[0m\u001b[0;34m.\u001b[0m\u001b[0mxs\u001b[0m\u001b[0;34m(\u001b[0m\u001b[0mlabel\u001b[0m\u001b[0;34m,\u001b[0m \u001b[0maxis\u001b[0m\u001b[0;34m=\u001b[0m\u001b[0maxis\u001b[0m\u001b[0;34m)\u001b[0m\u001b[0;34m\u001b[0m\u001b[0;34m\u001b[0m\u001b[0m\n\u001b[0m\u001b[1;32m   1114\u001b[0m \u001b[0;34m\u001b[0m\u001b[0m\n\u001b[1;32m   1115\u001b[0m     \u001b[0;32mdef\u001b[0m \u001b[0m_handle_lowerdim_multi_index_axis0\u001b[0m\u001b[0;34m(\u001b[0m\u001b[0mself\u001b[0m\u001b[0;34m,\u001b[0m \u001b[0mtup\u001b[0m\u001b[0;34m:\u001b[0m \u001b[0mtuple\u001b[0m\u001b[0;34m)\u001b[0m\u001b[0;34m:\u001b[0m\u001b[0;34m\u001b[0m\u001b[0;34m\u001b[0m\u001b[0m\n",
            "\u001b[0;32m/usr/local/lib/python3.8/dist-packages/pandas/core/generic.py\u001b[0m in \u001b[0;36mxs\u001b[0;34m(self, key, axis, level, drop_level)\u001b[0m\n\u001b[1;32m   3774\u001b[0m                 \u001b[0;32mraise\u001b[0m \u001b[0mTypeError\u001b[0m\u001b[0;34m(\u001b[0m\u001b[0;34mf\"Expected label or tuple of labels, got {key}\"\u001b[0m\u001b[0;34m)\u001b[0m \u001b[0;32mfrom\u001b[0m \u001b[0me\u001b[0m\u001b[0;34m\u001b[0m\u001b[0;34m\u001b[0m\u001b[0m\n\u001b[1;32m   3775\u001b[0m         \u001b[0;32melse\u001b[0m\u001b[0;34m:\u001b[0m\u001b[0;34m\u001b[0m\u001b[0;34m\u001b[0m\u001b[0m\n\u001b[0;32m-> 3776\u001b[0;31m             \u001b[0mloc\u001b[0m \u001b[0;34m=\u001b[0m \u001b[0mindex\u001b[0m\u001b[0;34m.\u001b[0m\u001b[0mget_loc\u001b[0m\u001b[0;34m(\u001b[0m\u001b[0mkey\u001b[0m\u001b[0;34m)\u001b[0m\u001b[0;34m\u001b[0m\u001b[0;34m\u001b[0m\u001b[0m\n\u001b[0m\u001b[1;32m   3777\u001b[0m \u001b[0;34m\u001b[0m\u001b[0m\n\u001b[1;32m   3778\u001b[0m             \u001b[0;32mif\u001b[0m \u001b[0misinstance\u001b[0m\u001b[0;34m(\u001b[0m\u001b[0mloc\u001b[0m\u001b[0;34m,\u001b[0m \u001b[0mnp\u001b[0m\u001b[0;34m.\u001b[0m\u001b[0mndarray\u001b[0m\u001b[0;34m)\u001b[0m\u001b[0;34m:\u001b[0m\u001b[0;34m\u001b[0m\u001b[0;34m\u001b[0m\u001b[0m\n",
            "\u001b[0;32m/usr/local/lib/python3.8/dist-packages/pandas/core/indexes/base.py\u001b[0m in \u001b[0;36mget_loc\u001b[0;34m(self, key, method, tolerance)\u001b[0m\n\u001b[1;32m   3361\u001b[0m                 \u001b[0;32mreturn\u001b[0m \u001b[0mself\u001b[0m\u001b[0;34m.\u001b[0m\u001b[0m_engine\u001b[0m\u001b[0;34m.\u001b[0m\u001b[0mget_loc\u001b[0m\u001b[0;34m(\u001b[0m\u001b[0mcasted_key\u001b[0m\u001b[0;34m)\u001b[0m\u001b[0;34m\u001b[0m\u001b[0;34m\u001b[0m\u001b[0m\n\u001b[1;32m   3362\u001b[0m             \u001b[0;32mexcept\u001b[0m \u001b[0mKeyError\u001b[0m \u001b[0;32mas\u001b[0m \u001b[0merr\u001b[0m\u001b[0;34m:\u001b[0m\u001b[0;34m\u001b[0m\u001b[0;34m\u001b[0m\u001b[0m\n\u001b[0;32m-> 3363\u001b[0;31m                 \u001b[0;32mraise\u001b[0m \u001b[0mKeyError\u001b[0m\u001b[0;34m(\u001b[0m\u001b[0mkey\u001b[0m\u001b[0;34m)\u001b[0m \u001b[0;32mfrom\u001b[0m \u001b[0merr\u001b[0m\u001b[0;34m\u001b[0m\u001b[0;34m\u001b[0m\u001b[0m\n\u001b[0m\u001b[1;32m   3364\u001b[0m \u001b[0;34m\u001b[0m\u001b[0m\n\u001b[1;32m   3365\u001b[0m         \u001b[0;32mif\u001b[0m \u001b[0mis_scalar\u001b[0m\u001b[0;34m(\u001b[0m\u001b[0mkey\u001b[0m\u001b[0;34m)\u001b[0m \u001b[0;32mand\u001b[0m \u001b[0misna\u001b[0m\u001b[0;34m(\u001b[0m\u001b[0mkey\u001b[0m\u001b[0;34m)\u001b[0m \u001b[0;32mand\u001b[0m \u001b[0;32mnot\u001b[0m \u001b[0mself\u001b[0m\u001b[0;34m.\u001b[0m\u001b[0mhasnans\u001b[0m\u001b[0;34m:\u001b[0m\u001b[0;34m\u001b[0m\u001b[0;34m\u001b[0m\u001b[0m\n",
            "\u001b[0;31mKeyError\u001b[0m: 1"
          ]
        }
      ]
    },
    {
      "cell_type": "code",
      "source": [],
      "metadata": {
        "id": "iE5WOWfNleIT"
      },
      "execution_count": null,
      "outputs": []
    },
    {
      "cell_type": "code",
      "source": [
        "!pip install quandl"
      ],
      "metadata": {
        "id": "hggfTo8LrsvE"
      },
      "execution_count": null,
      "outputs": []
    },
    {
      "cell_type": "code",
      "source": [
        "# Asset allocation environment\n",
        "import gym\n",
        "from gym import error, spaces, utils\n",
        "from gym.utils import seeding\n",
        "\n",
        "import numpy as np\n",
        "import pandas as pd\n",
        "import quandl\n",
        "import errno\n",
        "import os\n",
        "import pickle\n",
        "import datetime\n",
        "\n",
        "class AssetAllocationEnv(gym.Env):\n",
        "    # # # # # # # # # # # # # # # # # # # #\n",
        "    # Overridden methods\n",
        "    # # # # # # # # # # # # # # # # # # # #\n",
        "    def __init__(self):\n",
        "        # prices is a T x n array\n",
        "        # first indexed by time, then by asset\n",
        "        self.cols = ['Open', 'High', 'Low', 'Close', 'Volume']\n",
        "        self._pull_price_data()\n",
        "        n = len(self.asset_price_dfs)\n",
        "\n",
        "        self.observation_space = spaces.Box(0, np.finfo('d').max, shape=(n, 5))\n",
        "        self.action_space = spaces.Box(0, 1, shape=(n))\n",
        "\n",
        "        self._seed()\n",
        "        self._reset()\n",
        "\n",
        "    def _seed(self, seed=None):\n",
        "        self.np_random, seed = seeding.np_random(seed)\n",
        "        return [seed]\n",
        "\n",
        "    def _step(self, action):\n",
        "        assert self.action_space.contains(action), \"%r (%s) invalid\" % (action, type(action))\n",
        "\n",
        "        if not self._get_over():\n",
        "            self.t += 1\n",
        "            self._take_action(action)\n",
        "\n",
        "        observation = self._get_observation()\n",
        "        reward = self._get_reward()\n",
        "        episode_over = self._get_over()\n",
        "        info = {}\n",
        "\n",
        "        return observation, reward, episode_over, info\n",
        "\n",
        "    def _reset(self):\n",
        "\n",
        "        # self.price is a dict, keys 'Open','High','Low','Close','Volume'\n",
        "        self.price = self._get_price_data()\n",
        "\n",
        "        self.T = self.price['Open'].shape[0] # final time\n",
        "        self.n = self.price['Open'].shape[1] # number of assets\n",
        "\n",
        "        # These are all for the START of day t\n",
        "        self.allocation = np.zeros((self.T, self.n)) # fund allocation\n",
        "        self.holdings = np.zeros((self.T, self.n)) # asset holdings\n",
        "        self.cash = np.zeros((self.T))\n",
        "        self.cash[0] = 100\n",
        "\n",
        "        self.value = np.zeros((self.T)) # total value\n",
        "        self.value[0] = np.dot(self.holdings[0], self.price['Open'][0]) + self.cash[0]\n",
        "\n",
        "        self.t = 0 # current time\n",
        "\n",
        "\n",
        "    def _render(self, mode='human', close=False):\n",
        "        # TODO\n",
        "        pass\n",
        "\n",
        "    # # # # # # # # # # # # # # # # # # # #\n",
        "    # Helper methods\n",
        "    # # # # # # # # # # # # # # # # # # # #\n",
        "    def _pull_price_data(self):\n",
        "        # cache data for 1 day (because API calls limited to daily cap)\n",
        "        directory = 'data/'\n",
        "        filename = 'price_data.pkl'\n",
        "        assets = ['TSE/9994', 'TSE/3443']\n",
        "        try:\n",
        "            with open(directory+filename, 'rb') as f:\n",
        "                timestamp, self.asset_price_dfs = pickle.load(f)\n",
        "                if datetime.datetime.now().date() != timestamp.date():\n",
        "                    raise FileNotFoundError(\n",
        "                        errno.ENOENT, os.strerror(errno.ENOENT), directory+filename)\n",
        "        except FileNotFoundError:\n",
        "            if not os.path.exists(directory):\n",
        "                os.makedirs(directory)\n",
        "            self.asset_price_dfs = []\n",
        "            for asset in assets:\n",
        "                self.asset_price_dfs += [quandl.get(asset)]\n",
        "\n",
        "            with open(directory+filename, 'wb') as f:\n",
        "                pickle.dump((datetime.datetime.now(), self.asset_price_dfs), f)\n",
        "\n",
        "    def _get_price_data(self, days=252):\n",
        "        self.np_random.shuffle(self.asset_price_dfs)\n",
        "\n",
        "        # get slices of length days from each dataframe\n",
        "        asset_df_slices = []\n",
        "        for asset_df in self.asset_price_dfs:\n",
        "            if len(asset_df) > days:\n",
        "                i_start = self.np_random.randint(0, len(asset_df)-days)\n",
        "                asset_df_slice = asset_df.iloc[i_start:i_start+days]\n",
        "                asset_df_slices += [asset_df_slice]\n",
        "\n",
        "        # stack these together in to prices\n",
        "        prices = {}\n",
        "        for col in self.cols:\n",
        "            prices[col] = np.column_stack([df[col] for df in asset_df_slices])\n",
        "\n",
        "        return prices\n",
        "\n",
        "    def _take_action(self, action):\n",
        "        # Normalise action\n",
        "        if action.sum() > 1:\n",
        "            action /= action.sum()\n",
        "\n",
        "        # update current allocation, value and holdings\n",
        "        self.allocation[self.t] = action\n",
        "\n",
        "        # keep holdings[t-1] from t-1 to t\n",
        "        self.value[self.t] = np.dot(self.holdings[self.t-1], self.price['Open'][self.t]) + \\\n",
        "            self.cash[self.t-1]\n",
        "\n",
        "        # calculate our new holdings\n",
        "        self.holdings[self.t] = self.value[self.t] * self.allocation[self.t] / \\\n",
        "            self.price['Open'][self.t]\n",
        "        self.cash[self.t] = (1-action.sum()) * self.value[self.t]\n",
        "\n",
        "    def _get_observation(self):\n",
        "        return np.array([self.price[col][self.t] for col in self.cols]).transpose()\n",
        "\n",
        "    def _get_reward(self):\n",
        "        return (self.value[self.t] - self.value[self.t-1]) / self.value[self.t-1]\n",
        "\n",
        "    def _get_over(self):\n",
        "        return self.t+1 >= self.T"
      ],
      "metadata": {
        "id": "rm9s38wrlJs2"
      },
      "execution_count": null,
      "outputs": []
    },
    {
      "cell_type": "code",
      "source": [
        "AssetAllocationEnv(,)"
      ],
      "metadata": {
        "id": "FZtLlS2BrjWB"
      },
      "execution_count": null,
      "outputs": []
    }
  ]
}